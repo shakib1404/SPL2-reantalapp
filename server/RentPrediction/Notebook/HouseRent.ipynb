{
 "cells": [
  {
   "cell_type": "code",
   "execution_count": 1,
   "id": "fbbbd5a3-3c24-4d41-8bd4-5a06319c0039",
   "metadata": {},
   "outputs": [],
   "source": [
    "# Import dependencies\n",
    "import pandas as pd\n",
    "import numpy as np\n",
    "import matplotlib.pyplot as plt\n",
    "import seaborn as sns\n",
    "import sklearn as sk\n",
    "from sklearn.preprocessing import MinMaxScaler\n",
    "from sklearn.model_selection import train_test_split, GridSearchCV\n",
    "from sklearn.metrics import mean_squared_error\n",
    "from sklearn.linear_model import LinearRegression, Ridge, Lasso, BayesianRidge\n",
    "from sklearn.ensemble import RandomForestRegressor\n",
    "from xgboost import XGBRegressor\n",
    "from sklearn.svm import SVR\n",
    "from lightgbm import LGBMRegressor\n",
    "import os\n",
    "import warnings\n",
    "warnings.filterwarnings('ignore')"
   ]
  },
  {
   "cell_type": "code",
   "execution_count": 2,
   "id": "c07e708d-3cc8-4f6f-9e2a-abef7468944e",
   "metadata": {},
   "outputs": [
    {
     "name": "stdout",
     "output_type": "stream",
     "text": [
      "D:\\ACADEMIC\\SEMESTER-5\\SPL-2\\SPL2-reantalapp\\server\\RentPrediction\\Notebook\n"
     ]
    }
   ],
   "source": [
    "print(os.getcwd())"
   ]
  },
  {
   "cell_type": "code",
   "execution_count": 6,
   "id": "324366cd-5a24-4283-a9fc-9da26cc41003",
   "metadata": {},
   "outputs": [
    {
     "name": "stdout",
     "output_type": "stream",
     "text": [
      "Dataset path: ..\\Data\\houserentdhaka.csv\n"
     ]
    }
   ],
   "source": [
    "data_path = os.path.join('..', 'Data', 'houserentdhaka.csv')\n",
    "print(\"Dataset path:\", data_path)"
   ]
  },
  {
   "cell_type": "code",
   "execution_count": 8,
   "id": "420d3ad8-8bf9-4e58-a36e-2d82c776bf2e",
   "metadata": {},
   "outputs": [],
   "source": [
    "df=pd.read_csv(data_path)"
   ]
  },
  {
   "cell_type": "code",
   "execution_count": 9,
   "id": "e8417ce4-9e4b-4337-b273-15c1c000a72c",
   "metadata": {},
   "outputs": [
    {
     "data": {
      "text/html": [
       "<div>\n",
       "<style scoped>\n",
       "    .dataframe tbody tr th:only-of-type {\n",
       "        vertical-align: middle;\n",
       "    }\n",
       "\n",
       "    .dataframe tbody tr th {\n",
       "        vertical-align: top;\n",
       "    }\n",
       "\n",
       "    .dataframe thead th {\n",
       "        text-align: right;\n",
       "    }\n",
       "</style>\n",
       "<table border=\"1\" class=\"dataframe\">\n",
       "  <thead>\n",
       "    <tr style=\"text-align: right;\">\n",
       "      <th></th>\n",
       "      <th>Unnamed: 0</th>\n",
       "      <th>Location</th>\n",
       "      <th>Area</th>\n",
       "      <th>Bed</th>\n",
       "      <th>Bath</th>\n",
       "      <th>Price</th>\n",
       "    </tr>\n",
       "  </thead>\n",
       "  <tbody>\n",
       "    <tr>\n",
       "      <th>0</th>\n",
       "      <td>0</td>\n",
       "      <td>Block H, Bashundhara R-A, Dhaka</td>\n",
       "      <td>1,600 sqft</td>\n",
       "      <td>3</td>\n",
       "      <td>3</td>\n",
       "      <td>20 Thousand</td>\n",
       "    </tr>\n",
       "    <tr>\n",
       "      <th>1</th>\n",
       "      <td>1</td>\n",
       "      <td>Farmgate, Tejgaon, Dhaka</td>\n",
       "      <td>900 sqft</td>\n",
       "      <td>2</td>\n",
       "      <td>2</td>\n",
       "      <td>20 Thousand</td>\n",
       "    </tr>\n",
       "    <tr>\n",
       "      <th>2</th>\n",
       "      <td>2</td>\n",
       "      <td>Block B, Nobodoy Housing Society, Mohammadpur,...</td>\n",
       "      <td>1,250 sqft</td>\n",
       "      <td>3</td>\n",
       "      <td>3</td>\n",
       "      <td>18 Thousand</td>\n",
       "    </tr>\n",
       "    <tr>\n",
       "      <th>3</th>\n",
       "      <td>3</td>\n",
       "      <td>Gulshan 1, Gulshan, Dhaka</td>\n",
       "      <td>2,200 sqft</td>\n",
       "      <td>3</td>\n",
       "      <td>4</td>\n",
       "      <td>75 Thousand</td>\n",
       "    </tr>\n",
       "    <tr>\n",
       "      <th>4</th>\n",
       "      <td>4</td>\n",
       "      <td>Baridhara, Dhaka</td>\n",
       "      <td>2,200 sqft</td>\n",
       "      <td>3</td>\n",
       "      <td>3</td>\n",
       "      <td>75 Thousand</td>\n",
       "    </tr>\n",
       "  </tbody>\n",
       "</table>\n",
       "</div>"
      ],
      "text/plain": [
       "   Unnamed: 0                                           Location        Area  \\\n",
       "0           0                    Block H, Bashundhara R-A, Dhaka  1,600 sqft   \n",
       "1           1                           Farmgate, Tejgaon, Dhaka    900 sqft   \n",
       "2           2  Block B, Nobodoy Housing Society, Mohammadpur,...  1,250 sqft   \n",
       "3           3                          Gulshan 1, Gulshan, Dhaka  2,200 sqft   \n",
       "4           4                                   Baridhara, Dhaka  2,200 sqft   \n",
       "\n",
       "   Bed  Bath        Price  \n",
       "0    3     3  20 Thousand  \n",
       "1    2     2  20 Thousand  \n",
       "2    3     3  18 Thousand  \n",
       "3    3     4  75 Thousand  \n",
       "4    3     3  75 Thousand  "
      ]
     },
     "execution_count": 9,
     "metadata": {},
     "output_type": "execute_result"
    }
   ],
   "source": [
    "df.head()"
   ]
  },
  {
   "cell_type": "code",
   "execution_count": 10,
   "id": "89667214-d4cd-418e-9eb2-d9c2af880c58",
   "metadata": {},
   "outputs": [
    {
     "data": {
      "text/plain": [
       "(28800, 6)"
      ]
     },
     "execution_count": 10,
     "metadata": {},
     "output_type": "execute_result"
    }
   ],
   "source": [
    "df.shape"
   ]
  },
  {
   "cell_type": "code",
   "execution_count": 11,
   "id": "8a47438b-d3c9-4e83-b75f-1cb25940b22e",
   "metadata": {},
   "outputs": [
    {
     "name": "stdout",
     "output_type": "stream",
     "text": [
      "<class 'pandas.core.frame.DataFrame'>\n",
      "RangeIndex: 28800 entries, 0 to 28799\n",
      "Data columns (total 6 columns):\n",
      " #   Column      Non-Null Count  Dtype \n",
      "---  ------      --------------  ----- \n",
      " 0   Unnamed: 0  28800 non-null  int64 \n",
      " 1   Location    28800 non-null  object\n",
      " 2   Area        28800 non-null  object\n",
      " 3   Bed         28800 non-null  int64 \n",
      " 4   Bath        28800 non-null  int64 \n",
      " 5   Price       28800 non-null  object\n",
      "dtypes: int64(3), object(3)\n",
      "memory usage: 1.3+ MB\n"
     ]
    }
   ],
   "source": [
    "df.info()"
   ]
  },
  {
   "cell_type": "code",
   "execution_count": 12,
   "id": "69ea81ad-8272-4552-a839-1235fba330f5",
   "metadata": {},
   "outputs": [
    {
     "data": {
      "text/plain": [
       "Index(['Unnamed: 0', 'Location', 'Area', 'Bed', 'Bath', 'Price'], dtype='object')"
      ]
     },
     "execution_count": 12,
     "metadata": {},
     "output_type": "execute_result"
    }
   ],
   "source": [
    "df.columns"
   ]
  },
  {
   "cell_type": "code",
   "execution_count": 13,
   "id": "b0594426-1fe4-435d-ad9d-fe464d967dd1",
   "metadata": {},
   "outputs": [],
   "source": [
    "df.rename({'Price':'Rent'},axis=1, inplace=True)"
   ]
  },
  {
   "cell_type": "code",
   "execution_count": 14,
   "id": "254b7602-0945-4d5a-95c0-e3ac5fb1045f",
   "metadata": {},
   "outputs": [],
   "source": [
    "df.drop(columns=df.columns[0], axis=1,inplace=True)"
   ]
  },
  {
   "cell_type": "code",
   "execution_count": 15,
   "id": "4a3568dd-4276-4d42-b968-d3a973b6bfd9",
   "metadata": {},
   "outputs": [
    {
     "data": {
      "text/html": [
       "<div>\n",
       "<style scoped>\n",
       "    .dataframe tbody tr th:only-of-type {\n",
       "        vertical-align: middle;\n",
       "    }\n",
       "\n",
       "    .dataframe tbody tr th {\n",
       "        vertical-align: top;\n",
       "    }\n",
       "\n",
       "    .dataframe thead th {\n",
       "        text-align: right;\n",
       "    }\n",
       "</style>\n",
       "<table border=\"1\" class=\"dataframe\">\n",
       "  <thead>\n",
       "    <tr style=\"text-align: right;\">\n",
       "      <th></th>\n",
       "      <th>Location</th>\n",
       "      <th>Area</th>\n",
       "      <th>Bed</th>\n",
       "      <th>Bath</th>\n",
       "      <th>Rent</th>\n",
       "    </tr>\n",
       "  </thead>\n",
       "  <tbody>\n",
       "    <tr>\n",
       "      <th>0</th>\n",
       "      <td>Block H, Bashundhara R-A, Dhaka</td>\n",
       "      <td>1,600 sqft</td>\n",
       "      <td>3</td>\n",
       "      <td>3</td>\n",
       "      <td>20 Thousand</td>\n",
       "    </tr>\n",
       "    <tr>\n",
       "      <th>1</th>\n",
       "      <td>Farmgate, Tejgaon, Dhaka</td>\n",
       "      <td>900 sqft</td>\n",
       "      <td>2</td>\n",
       "      <td>2</td>\n",
       "      <td>20 Thousand</td>\n",
       "    </tr>\n",
       "    <tr>\n",
       "      <th>2</th>\n",
       "      <td>Block B, Nobodoy Housing Society, Mohammadpur,...</td>\n",
       "      <td>1,250 sqft</td>\n",
       "      <td>3</td>\n",
       "      <td>3</td>\n",
       "      <td>18 Thousand</td>\n",
       "    </tr>\n",
       "    <tr>\n",
       "      <th>3</th>\n",
       "      <td>Gulshan 1, Gulshan, Dhaka</td>\n",
       "      <td>2,200 sqft</td>\n",
       "      <td>3</td>\n",
       "      <td>4</td>\n",
       "      <td>75 Thousand</td>\n",
       "    </tr>\n",
       "    <tr>\n",
       "      <th>4</th>\n",
       "      <td>Baridhara, Dhaka</td>\n",
       "      <td>2,200 sqft</td>\n",
       "      <td>3</td>\n",
       "      <td>3</td>\n",
       "      <td>75 Thousand</td>\n",
       "    </tr>\n",
       "  </tbody>\n",
       "</table>\n",
       "</div>"
      ],
      "text/plain": [
       "                                            Location        Area  Bed  Bath  \\\n",
       "0                    Block H, Bashundhara R-A, Dhaka  1,600 sqft    3     3   \n",
       "1                           Farmgate, Tejgaon, Dhaka    900 sqft    2     2   \n",
       "2  Block B, Nobodoy Housing Society, Mohammadpur,...  1,250 sqft    3     3   \n",
       "3                          Gulshan 1, Gulshan, Dhaka  2,200 sqft    3     4   \n",
       "4                                   Baridhara, Dhaka  2,200 sqft    3     3   \n",
       "\n",
       "          Rent  \n",
       "0  20 Thousand  \n",
       "1  20 Thousand  \n",
       "2  18 Thousand  \n",
       "3  75 Thousand  \n",
       "4  75 Thousand  "
      ]
     },
     "execution_count": 15,
     "metadata": {},
     "output_type": "execute_result"
    }
   ],
   "source": [
    "df.head()"
   ]
  },
  {
   "cell_type": "code",
   "execution_count": 16,
   "id": "fb52adcf-eb1f-493c-ab5c-7b5bee744aa4",
   "metadata": {},
   "outputs": [
    {
     "data": {
      "text/plain": [
       "Location    object\n",
       "Area        object\n",
       "Bed          int64\n",
       "Bath         int64\n",
       "Rent        object\n",
       "dtype: object"
      ]
     },
     "execution_count": 16,
     "metadata": {},
     "output_type": "execute_result"
    }
   ],
   "source": [
    "df.dtypes"
   ]
  },
  {
   "cell_type": "code",
   "execution_count": 17,
   "id": "0996fa23-12be-426a-8141-80e8ce94ea11",
   "metadata": {},
   "outputs": [
    {
     "data": {
      "text/plain": [
       "0                      Block H, Bashundhara R-A, Dhaka\n",
       "1                             Farmgate, Tejgaon, Dhaka\n",
       "2    Block B, Nobodoy Housing Society, Mohammadpur,...\n",
       "3                            Gulshan 1, Gulshan, Dhaka\n",
       "4                                     Baridhara, Dhaka\n",
       "Name: Location, dtype: object"
      ]
     },
     "execution_count": 17,
     "metadata": {},
     "output_type": "execute_result"
    }
   ],
   "source": [
    "df['Location'].head()"
   ]
  },
  {
   "cell_type": "code",
   "execution_count": 18,
   "id": "38153487-8762-4268-800c-73c716ecacbc",
   "metadata": {},
   "outputs": [
    {
     "data": {
      "text/plain": [
       "0    Bashundhara R-A\n",
       "1            Tejgaon\n",
       "2        Mohammadpur\n",
       "3            Gulshan\n",
       "4          Baridhara\n",
       "Name: Location, dtype: object"
      ]
     },
     "execution_count": 18,
     "metadata": {},
     "output_type": "execute_result"
    }
   ],
   "source": [
    "df['Location']=df['Location'].str.split(',').str[:-1]\n",
    "\n",
    "df['Location'] = df['Location'].str[-1]\n",
    "\n",
    "df['Location'] = df['Location'].str.strip()\n",
    "\n",
    "df['Location'].head()"
   ]
  },
  {
   "cell_type": "code",
   "execution_count": 19,
   "id": "e3844e3d-a4f8-49a2-9f42-e1d1078d4788",
   "metadata": {},
   "outputs": [],
   "source": [
    "df['Area']=df['Area'].str.split(' ').str[:-1]"
   ]
  },
  {
   "cell_type": "code",
   "execution_count": 20,
   "id": "d6ad522f-aa51-4bf3-b4d9-5063378f81e7",
   "metadata": {},
   "outputs": [
    {
     "data": {
      "text/plain": [
       "0    [1,600]\n",
       "1      [900]\n",
       "2    [1,250]\n",
       "3    [2,200]\n",
       "4    [2,200]\n",
       "Name: Area, dtype: object"
      ]
     },
     "execution_count": 20,
     "metadata": {},
     "output_type": "execute_result"
    }
   ],
   "source": [
    "df['Area'].head()"
   ]
  },
  {
   "cell_type": "code",
   "execution_count": 21,
   "id": "c23deabf-ee01-4565-91bb-47b1f704f7e9",
   "metadata": {},
   "outputs": [],
   "source": [
    "df['Area'] = df['Area'].apply(lambda x: ''.join(map(str, x)))"
   ]
  },
  {
   "cell_type": "code",
   "execution_count": 22,
   "id": "732862f2-8c65-4a45-9feb-eb81adb65e77",
   "metadata": {},
   "outputs": [],
   "source": [
    "df['Area'] = df['Area'].str.replace(',','')"
   ]
  },
  {
   "cell_type": "code",
   "execution_count": 23,
   "id": "8b2c96b6-ae52-44e4-a266-cb3d15b10bc0",
   "metadata": {},
   "outputs": [],
   "source": [
    "df['Area'] = df['Area'].astype(int)"
   ]
  },
  {
   "cell_type": "code",
   "execution_count": 24,
   "id": "34ecc2f0-4ba0-4cd4-bbb4-098876eed843",
   "metadata": {},
   "outputs": [
    {
     "data": {
      "text/plain": [
       "0    1600\n",
       "1     900\n",
       "2    1250\n",
       "3    2200\n",
       "4    2200\n",
       "Name: Area, dtype: int32"
      ]
     },
     "execution_count": 24,
     "metadata": {},
     "output_type": "execute_result"
    }
   ],
   "source": [
    "df['Area'].head()"
   ]
  },
  {
   "cell_type": "code",
   "execution_count": 25,
   "id": "7575c58f-f600-4981-b710-352e5585a1ee",
   "metadata": {},
   "outputs": [
    {
     "name": "stdout",
     "output_type": "stream",
     "text": [
      "int32\n"
     ]
    }
   ],
   "source": [
    "print(df['Area'].dtype)"
   ]
  },
  {
   "cell_type": "code",
   "execution_count": 26,
   "id": "3f1a93a2-0955-4a61-8d1c-6bee302a6fe3",
   "metadata": {},
   "outputs": [],
   "source": [
    "df['Area'] = df['Area'].astype(\"int64\")"
   ]
  },
  {
   "cell_type": "code",
   "execution_count": 27,
   "id": "967dca83-98a6-4fe3-bbe5-c74f3117bee4",
   "metadata": {},
   "outputs": [
    {
     "name": "stdout",
     "output_type": "stream",
     "text": [
      "int64\n"
     ]
    }
   ],
   "source": [
    "print(df['Area'].dtypes)"
   ]
  },
  {
   "cell_type": "code",
   "execution_count": 28,
   "id": "f986328b-0f7f-4816-950a-ba85e4f9049c",
   "metadata": {},
   "outputs": [
    {
     "data": {
      "text/plain": [
       "0    1600\n",
       "1     900\n",
       "2    1250\n",
       "3    2200\n",
       "4    2200\n",
       "Name: Area, dtype: int64"
      ]
     },
     "execution_count": 28,
     "metadata": {},
     "output_type": "execute_result"
    }
   ],
   "source": [
    "df['Area'].head()"
   ]
  },
  {
   "cell_type": "code",
   "execution_count": 29,
   "id": "3d54e6f9-b910-4f8d-ab69-c6be708cc45b",
   "metadata": {},
   "outputs": [
    {
     "data": {
      "text/plain": [
       "0    20000\n",
       "1    20000\n",
       "2    18000\n",
       "3    75000\n",
       "4    75000\n",
       "Name: Rent, dtype: int64"
      ]
     },
     "execution_count": 29,
     "metadata": {},
     "output_type": "execute_result"
    }
   ],
   "source": [
    "df['Rent']=df['Rent'].replace({\"Thousand\":\"*1e3\", \"Lakh\":\"*1e5\"}, regex=True).map(pd.eval).astype(\"int64\")\n",
    "\n",
    "df['Rent'].head()"
   ]
  },
  {
   "cell_type": "code",
   "execution_count": 30,
   "id": "261f7031-09ef-4d01-94ba-569b357b965e",
   "metadata": {},
   "outputs": [
    {
     "data": {
      "text/html": [
       "<div>\n",
       "<style scoped>\n",
       "    .dataframe tbody tr th:only-of-type {\n",
       "        vertical-align: middle;\n",
       "    }\n",
       "\n",
       "    .dataframe tbody tr th {\n",
       "        vertical-align: top;\n",
       "    }\n",
       "\n",
       "    .dataframe thead th {\n",
       "        text-align: right;\n",
       "    }\n",
       "</style>\n",
       "<table border=\"1\" class=\"dataframe\">\n",
       "  <thead>\n",
       "    <tr style=\"text-align: right;\">\n",
       "      <th></th>\n",
       "      <th>Location</th>\n",
       "      <th>Area</th>\n",
       "      <th>Bed</th>\n",
       "      <th>Bath</th>\n",
       "      <th>Rent</th>\n",
       "    </tr>\n",
       "  </thead>\n",
       "  <tbody>\n",
       "    <tr>\n",
       "      <th>0</th>\n",
       "      <td>Bashundhara R-A</td>\n",
       "      <td>1600</td>\n",
       "      <td>3</td>\n",
       "      <td>3</td>\n",
       "      <td>20000</td>\n",
       "    </tr>\n",
       "    <tr>\n",
       "      <th>1</th>\n",
       "      <td>Tejgaon</td>\n",
       "      <td>900</td>\n",
       "      <td>2</td>\n",
       "      <td>2</td>\n",
       "      <td>20000</td>\n",
       "    </tr>\n",
       "    <tr>\n",
       "      <th>2</th>\n",
       "      <td>Mohammadpur</td>\n",
       "      <td>1250</td>\n",
       "      <td>3</td>\n",
       "      <td>3</td>\n",
       "      <td>18000</td>\n",
       "    </tr>\n",
       "    <tr>\n",
       "      <th>3</th>\n",
       "      <td>Gulshan</td>\n",
       "      <td>2200</td>\n",
       "      <td>3</td>\n",
       "      <td>4</td>\n",
       "      <td>75000</td>\n",
       "    </tr>\n",
       "    <tr>\n",
       "      <th>4</th>\n",
       "      <td>Baridhara</td>\n",
       "      <td>2200</td>\n",
       "      <td>3</td>\n",
       "      <td>3</td>\n",
       "      <td>75000</td>\n",
       "    </tr>\n",
       "  </tbody>\n",
       "</table>\n",
       "</div>"
      ],
      "text/plain": [
       "          Location  Area  Bed  Bath   Rent\n",
       "0  Bashundhara R-A  1600    3     3  20000\n",
       "1          Tejgaon   900    2     2  20000\n",
       "2      Mohammadpur  1250    3     3  18000\n",
       "3          Gulshan  2200    3     4  75000\n",
       "4        Baridhara  2200    3     3  75000"
      ]
     },
     "execution_count": 30,
     "metadata": {},
     "output_type": "execute_result"
    }
   ],
   "source": [
    "df.head()"
   ]
  },
  {
   "cell_type": "code",
   "execution_count": 31,
   "id": "f069934d-359e-4178-98e6-efec69fca290",
   "metadata": {},
   "outputs": [
    {
     "data": {
      "text/plain": [
       "Location    object\n",
       "Area         int64\n",
       "Bed          int64\n",
       "Bath         int64\n",
       "Rent         int64\n",
       "dtype: object"
      ]
     },
     "execution_count": 31,
     "metadata": {},
     "output_type": "execute_result"
    }
   ],
   "source": [
    "df.dtypes"
   ]
  },
  {
   "cell_type": "code",
   "execution_count": 32,
   "id": "b4f4dcc6-9e3c-4fb7-976f-a97c3ac1d6b5",
   "metadata": {},
   "outputs": [
    {
     "data": {
      "text/plain": [
       "Location    13\n",
       "Area         0\n",
       "Bed          0\n",
       "Bath         0\n",
       "Rent         0\n",
       "dtype: int64"
      ]
     },
     "execution_count": 32,
     "metadata": {},
     "output_type": "execute_result"
    }
   ],
   "source": [
    "df.isna().sum()"
   ]
  },
  {
   "cell_type": "code",
   "execution_count": 33,
   "id": "c420e897-3a8c-4f2a-852c-cf17846126dd",
   "metadata": {},
   "outputs": [],
   "source": [
    "df.dropna(inplace=True)"
   ]
  },
  {
   "cell_type": "code",
   "execution_count": 34,
   "id": "3a430b7f-feb9-471d-816a-3bee0fea4838",
   "metadata": {},
   "outputs": [
    {
     "data": {
      "text/html": [
       "<div>\n",
       "<style scoped>\n",
       "    .dataframe tbody tr th:only-of-type {\n",
       "        vertical-align: middle;\n",
       "    }\n",
       "\n",
       "    .dataframe tbody tr th {\n",
       "        vertical-align: top;\n",
       "    }\n",
       "\n",
       "    .dataframe thead th {\n",
       "        text-align: right;\n",
       "    }\n",
       "</style>\n",
       "<table border=\"1\" class=\"dataframe\">\n",
       "  <thead>\n",
       "    <tr style=\"text-align: right;\">\n",
       "      <th></th>\n",
       "      <th>Location</th>\n",
       "      <th>Area</th>\n",
       "      <th>Bed</th>\n",
       "      <th>Bath</th>\n",
       "      <th>Rent</th>\n",
       "    </tr>\n",
       "  </thead>\n",
       "  <tbody>\n",
       "    <tr>\n",
       "      <th>0</th>\n",
       "      <td>Bashundhara R-A</td>\n",
       "      <td>1600</td>\n",
       "      <td>3</td>\n",
       "      <td>3</td>\n",
       "      <td>20000</td>\n",
       "    </tr>\n",
       "    <tr>\n",
       "      <th>1</th>\n",
       "      <td>Tejgaon</td>\n",
       "      <td>900</td>\n",
       "      <td>2</td>\n",
       "      <td>2</td>\n",
       "      <td>20000</td>\n",
       "    </tr>\n",
       "    <tr>\n",
       "      <th>2</th>\n",
       "      <td>Mohammadpur</td>\n",
       "      <td>1250</td>\n",
       "      <td>3</td>\n",
       "      <td>3</td>\n",
       "      <td>18000</td>\n",
       "    </tr>\n",
       "    <tr>\n",
       "      <th>3</th>\n",
       "      <td>Gulshan</td>\n",
       "      <td>2200</td>\n",
       "      <td>3</td>\n",
       "      <td>4</td>\n",
       "      <td>75000</td>\n",
       "    </tr>\n",
       "    <tr>\n",
       "      <th>4</th>\n",
       "      <td>Baridhara</td>\n",
       "      <td>2200</td>\n",
       "      <td>3</td>\n",
       "      <td>3</td>\n",
       "      <td>75000</td>\n",
       "    </tr>\n",
       "  </tbody>\n",
       "</table>\n",
       "</div>"
      ],
      "text/plain": [
       "          Location  Area  Bed  Bath   Rent\n",
       "0  Bashundhara R-A  1600    3     3  20000\n",
       "1          Tejgaon   900    2     2  20000\n",
       "2      Mohammadpur  1250    3     3  18000\n",
       "3          Gulshan  2200    3     4  75000\n",
       "4        Baridhara  2200    3     3  75000"
      ]
     },
     "execution_count": 34,
     "metadata": {},
     "output_type": "execute_result"
    }
   ],
   "source": [
    "df.head()"
   ]
  },
  {
   "cell_type": "code",
   "execution_count": 35,
   "id": "6da7ad57-d4f3-48b5-9cf3-0f73f638952c",
   "metadata": {},
   "outputs": [
    {
     "data": {
      "text/html": [
       "<div>\n",
       "<style scoped>\n",
       "    .dataframe tbody tr th:only-of-type {\n",
       "        vertical-align: middle;\n",
       "    }\n",
       "\n",
       "    .dataframe tbody tr th {\n",
       "        vertical-align: top;\n",
       "    }\n",
       "\n",
       "    .dataframe thead th {\n",
       "        text-align: right;\n",
       "    }\n",
       "</style>\n",
       "<table border=\"1\" class=\"dataframe\">\n",
       "  <thead>\n",
       "    <tr style=\"text-align: right;\">\n",
       "      <th></th>\n",
       "      <th>Location</th>\n",
       "      <th>Area</th>\n",
       "      <th>Bed</th>\n",
       "      <th>Bath</th>\n",
       "      <th>Rent</th>\n",
       "      <th>Price_Per_Sqft</th>\n",
       "    </tr>\n",
       "  </thead>\n",
       "  <tbody>\n",
       "    <tr>\n",
       "      <th>0</th>\n",
       "      <td>Bashundhara R-A</td>\n",
       "      <td>1600</td>\n",
       "      <td>3</td>\n",
       "      <td>3</td>\n",
       "      <td>20000</td>\n",
       "      <td>12.500000</td>\n",
       "    </tr>\n",
       "    <tr>\n",
       "      <th>1</th>\n",
       "      <td>Tejgaon</td>\n",
       "      <td>900</td>\n",
       "      <td>2</td>\n",
       "      <td>2</td>\n",
       "      <td>20000</td>\n",
       "      <td>22.222222</td>\n",
       "    </tr>\n",
       "    <tr>\n",
       "      <th>2</th>\n",
       "      <td>Mohammadpur</td>\n",
       "      <td>1250</td>\n",
       "      <td>3</td>\n",
       "      <td>3</td>\n",
       "      <td>18000</td>\n",
       "      <td>14.400000</td>\n",
       "    </tr>\n",
       "    <tr>\n",
       "      <th>3</th>\n",
       "      <td>Gulshan</td>\n",
       "      <td>2200</td>\n",
       "      <td>3</td>\n",
       "      <td>4</td>\n",
       "      <td>75000</td>\n",
       "      <td>34.090909</td>\n",
       "    </tr>\n",
       "    <tr>\n",
       "      <th>4</th>\n",
       "      <td>Baridhara</td>\n",
       "      <td>2200</td>\n",
       "      <td>3</td>\n",
       "      <td>3</td>\n",
       "      <td>75000</td>\n",
       "      <td>34.090909</td>\n",
       "    </tr>\n",
       "  </tbody>\n",
       "</table>\n",
       "</div>"
      ],
      "text/plain": [
       "          Location  Area  Bed  Bath   Rent  Price_Per_Sqft\n",
       "0  Bashundhara R-A  1600    3     3  20000       12.500000\n",
       "1          Tejgaon   900    2     2  20000       22.222222\n",
       "2      Mohammadpur  1250    3     3  18000       14.400000\n",
       "3          Gulshan  2200    3     4  75000       34.090909\n",
       "4        Baridhara  2200    3     3  75000       34.090909"
      ]
     },
     "execution_count": 35,
     "metadata": {},
     "output_type": "execute_result"
    }
   ],
   "source": [
    "df1=df.copy()\n",
    "df1['Price_Per_Sqft']=df1['Rent']/df1['Area']\n",
    "df1.head()"
   ]
  },
  {
   "cell_type": "code",
   "execution_count": 36,
   "id": "d50bb4e6-4fa6-4912-aa34-384d22c0f6f0",
   "metadata": {},
   "outputs": [
    {
     "data": {
      "text/plain": [
       "68"
      ]
     },
     "execution_count": 36,
     "metadata": {},
     "output_type": "execute_result"
    }
   ],
   "source": [
    "len(df1['Location'].unique())"
   ]
  },
  {
   "cell_type": "code",
   "execution_count": 38,
   "id": "c3083864-4faf-4e0d-8e60-ebd035d41faa",
   "metadata": {},
   "outputs": [
    {
     "name": "stdout",
     "output_type": "stream",
     "text": [
      "['Bashundhara R-A' 'Tejgaon' 'Mohammadpur' 'Gulshan' 'Baridhara'\n",
      " 'Hazaribag' 'Mirpur' 'Nikunja' 'Uttara' 'Khilgaon' 'Ibrahimpur' 'Badda'\n",
      " 'Adabor' 'Jatra Bari' 'Malibagh' 'Banani' 'Kakrail' 'Dhanmondi'\n",
      " 'Maghbazar' 'Kalachandpur' 'Niketan' 'Eskaton' 'Banasree' 'Bashabo'\n",
      " 'Baridhara DOHS' 'Aftab Nagar' 'Lalmatia' 'Dakshin Khan' 'Mohakhali DOHS'\n",
      " 'Sutrapur' 'Hatirpool' 'Agargaon' 'Rampura' 'Cantonment' 'Shahbagh'\n",
      " 'Khilkhet' 'Motijheel' 'Shantinagar' 'Shegunbagicha' 'Kathalbagan'\n",
      " 'Shyamoli' 'Kalabagan' 'Demra' 'Kuril' 'Mohakhali' 'Lalbagh' 'New Market'\n",
      " 'Kafrul' 'Kachukhet' 'Turag' 'Nadda' 'Shyampur' 'Maniknagar'\n",
      " 'Banani DOHS' 'Shiddheswari' 'Bangshal' 'Paribagh' 'Joar Sahara'\n",
      " 'Mugdapara' 'North Shahjahanpur' 'Kotwali' 'Shahjahanpur' 'Uttar Khan'\n",
      " 'Taltola' 'Sadarghat' 'Banglamotors' 'Zafrabad' 'Keraniganj']\n"
     ]
    }
   ],
   "source": [
    "print(df1['Location'].unique())"
   ]
  },
  {
   "cell_type": "code",
   "execution_count": 39,
   "id": "4f7bd259-0a3b-47c7-b33e-894455597dbc",
   "metadata": {},
   "outputs": [],
   "source": [
    "location_count = df1['Location'].value_counts(ascending=False)"
   ]
  },
  {
   "cell_type": "code",
   "execution_count": 40,
   "id": "a85710c5-81b9-47ab-87b6-62393ab9275e",
   "metadata": {},
   "outputs": [
    {
     "data": {
      "text/plain": [
       "Location\n",
       "Mirpur             8451\n",
       "Mohammadpur        3612\n",
       "Uttara             2070\n",
       "Badda              1831\n",
       "Bashundhara R-A    1397\n",
       "Name: count, dtype: int64"
      ]
     },
     "execution_count": 40,
     "metadata": {},
     "output_type": "execute_result"
    }
   ],
   "source": [
    "location_count.head()"
   ]
  },
  {
   "cell_type": "code",
   "execution_count": 41,
   "id": "b3e0bb9d-9db9-4846-af20-37ccc55e0170",
   "metadata": {},
   "outputs": [
    {
     "data": {
      "text/plain": [
       "9"
      ]
     },
     "execution_count": 41,
     "metadata": {},
     "output_type": "execute_result"
    }
   ],
   "source": [
    "len(location_count[location_count<=10])"
   ]
  },
  {
   "cell_type": "code",
   "execution_count": 42,
   "id": "66df926f-a565-4e47-85f7-ee3b90158abe",
   "metadata": {},
   "outputs": [],
   "source": [
    "location_count_less_than_ten=location_count[location_count<=10]"
   ]
  },
  {
   "cell_type": "code",
   "execution_count": 44,
   "id": "1371a475-7e0e-4132-9693-ce493e3650e2",
   "metadata": {},
   "outputs": [],
   "source": [
    "df1.Location = df1.Location.apply(lambda x: 'other' if x in location_count_less_than_ten else x)"
   ]
  },
  {
   "cell_type": "code",
   "execution_count": 45,
   "id": "006afcba-7ba8-4957-b880-7980ea7a3dcc",
   "metadata": {},
   "outputs": [
    {
     "data": {
      "text/plain": [
       "60"
      ]
     },
     "execution_count": 45,
     "metadata": {},
     "output_type": "execute_result"
    }
   ],
   "source": [
    "len(df1['Location'].unique())"
   ]
  },
  {
   "cell_type": "code",
   "execution_count": 46,
   "id": "12bba6dd-b398-4ab3-a40c-406571b6e819",
   "metadata": {},
   "outputs": [
    {
     "data": {
      "text/html": [
       "<div>\n",
       "<style scoped>\n",
       "    .dataframe tbody tr th:only-of-type {\n",
       "        vertical-align: middle;\n",
       "    }\n",
       "\n",
       "    .dataframe tbody tr th {\n",
       "        vertical-align: top;\n",
       "    }\n",
       "\n",
       "    .dataframe thead th {\n",
       "        text-align: right;\n",
       "    }\n",
       "</style>\n",
       "<table border=\"1\" class=\"dataframe\">\n",
       "  <thead>\n",
       "    <tr style=\"text-align: right;\">\n",
       "      <th></th>\n",
       "      <th>Location</th>\n",
       "      <th>Area</th>\n",
       "      <th>Bed</th>\n",
       "      <th>Bath</th>\n",
       "      <th>Rent</th>\n",
       "      <th>Price_Per_Sqft</th>\n",
       "    </tr>\n",
       "  </thead>\n",
       "  <tbody>\n",
       "    <tr>\n",
       "      <th>39</th>\n",
       "      <td>Jatra Bari</td>\n",
       "      <td>800</td>\n",
       "      <td>3</td>\n",
       "      <td>2</td>\n",
       "      <td>15000</td>\n",
       "      <td>18.750000</td>\n",
       "    </tr>\n",
       "    <tr>\n",
       "      <th>86</th>\n",
       "      <td>Mirpur</td>\n",
       "      <td>745</td>\n",
       "      <td>3</td>\n",
       "      <td>2</td>\n",
       "      <td>15000</td>\n",
       "      <td>20.134228</td>\n",
       "    </tr>\n",
       "    <tr>\n",
       "      <th>135</th>\n",
       "      <td>Jatra Bari</td>\n",
       "      <td>800</td>\n",
       "      <td>3</td>\n",
       "      <td>2</td>\n",
       "      <td>15000</td>\n",
       "      <td>18.750000</td>\n",
       "    </tr>\n",
       "    <tr>\n",
       "      <th>186</th>\n",
       "      <td>Maghbazar</td>\n",
       "      <td>550</td>\n",
       "      <td>2</td>\n",
       "      <td>2</td>\n",
       "      <td>13000</td>\n",
       "      <td>23.636364</td>\n",
       "    </tr>\n",
       "    <tr>\n",
       "      <th>191</th>\n",
       "      <td>Adabor</td>\n",
       "      <td>550</td>\n",
       "      <td>2</td>\n",
       "      <td>1</td>\n",
       "      <td>8500</td>\n",
       "      <td>15.454545</td>\n",
       "    </tr>\n",
       "    <tr>\n",
       "      <th>193</th>\n",
       "      <td>Khilgaon</td>\n",
       "      <td>550</td>\n",
       "      <td>2</td>\n",
       "      <td>1</td>\n",
       "      <td>11000</td>\n",
       "      <td>20.000000</td>\n",
       "    </tr>\n",
       "    <tr>\n",
       "      <th>195</th>\n",
       "      <td>Mirpur</td>\n",
       "      <td>850</td>\n",
       "      <td>3</td>\n",
       "      <td>2</td>\n",
       "      <td>13000</td>\n",
       "      <td>15.294118</td>\n",
       "    </tr>\n",
       "    <tr>\n",
       "      <th>205</th>\n",
       "      <td>Jatra Bari</td>\n",
       "      <td>800</td>\n",
       "      <td>3</td>\n",
       "      <td>2</td>\n",
       "      <td>15000</td>\n",
       "      <td>18.750000</td>\n",
       "    </tr>\n",
       "    <tr>\n",
       "      <th>252</th>\n",
       "      <td>Mohammadpur</td>\n",
       "      <td>750</td>\n",
       "      <td>3</td>\n",
       "      <td>2</td>\n",
       "      <td>16000</td>\n",
       "      <td>21.333333</td>\n",
       "    </tr>\n",
       "    <tr>\n",
       "      <th>260</th>\n",
       "      <td>Dakshin Khan</td>\n",
       "      <td>800</td>\n",
       "      <td>3</td>\n",
       "      <td>2</td>\n",
       "      <td>8500</td>\n",
       "      <td>10.625000</td>\n",
       "    </tr>\n",
       "  </tbody>\n",
       "</table>\n",
       "</div>"
      ],
      "text/plain": [
       "         Location  Area  Bed  Bath   Rent  Price_Per_Sqft\n",
       "39     Jatra Bari   800    3     2  15000       18.750000\n",
       "86         Mirpur   745    3     2  15000       20.134228\n",
       "135    Jatra Bari   800    3     2  15000       18.750000\n",
       "186     Maghbazar   550    2     2  13000       23.636364\n",
       "191        Adabor   550    2     1   8500       15.454545\n",
       "193      Khilgaon   550    2     1  11000       20.000000\n",
       "195        Mirpur   850    3     2  13000       15.294118\n",
       "205    Jatra Bari   800    3     2  15000       18.750000\n",
       "252   Mohammadpur   750    3     2  16000       21.333333\n",
       "260  Dakshin Khan   800    3     2   8500       10.625000"
      ]
     },
     "execution_count": 46,
     "metadata": {},
     "output_type": "execute_result"
    }
   ],
   "source": [
    "df1[df1.Area/df1.Bed<300].head(10) #Unrealistic ratio "
   ]
  },
  {
   "cell_type": "code",
   "execution_count": 47,
   "id": "9753b28f-bd58-44cb-847f-3e22a59de426",
   "metadata": {},
   "outputs": [
    {
     "data": {
      "text/plain": [
       "(28787, 6)"
      ]
     },
     "execution_count": 47,
     "metadata": {},
     "output_type": "execute_result"
    }
   ],
   "source": [
    "df1.shape"
   ]
  },
  {
   "cell_type": "code",
   "execution_count": 49,
   "id": "0a3d1e83-4449-46ee-9344-0454be00ac2b",
   "metadata": {},
   "outputs": [
    {
     "data": {
      "text/plain": [
       "(27866, 6)"
      ]
     },
     "execution_count": 49,
     "metadata": {},
     "output_type": "execute_result"
    }
   ],
   "source": [
    "df2=df1[~(df1.Area/df1.Bed<300)]\n",
    "df2.shape"
   ]
  },
  {
   "cell_type": "code",
   "execution_count": null,
   "id": "52ef5085-5d7e-4faa-85ef-cb1cabec88fe",
   "metadata": {},
   "outputs": [],
   "source": []
  }
 ],
 "metadata": {
  "kernelspec": {
   "display_name": "Python 3 (ipykernel)",
   "language": "python",
   "name": "python3"
  },
  "language_info": {
   "codemirror_mode": {
    "name": "ipython",
    "version": 3
   },
   "file_extension": ".py",
   "mimetype": "text/x-python",
   "name": "python",
   "nbconvert_exporter": "python",
   "pygments_lexer": "ipython3",
   "version": "3.12.1"
  }
 },
 "nbformat": 4,
 "nbformat_minor": 5
}
