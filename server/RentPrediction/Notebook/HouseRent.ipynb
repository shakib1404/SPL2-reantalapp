{
 "cells": [
  {
   "cell_type": "code",
   "execution_count": 76,
   "id": "fbbbd5a3-3c24-4d41-8bd4-5a06319c0039",
   "metadata": {},
   "outputs": [],
   "source": [
    "# Import dependencies\n",
    "import pandas as pd\n",
    "import numpy as np\n",
    "import matplotlib.pyplot as plt\n",
    "import seaborn as sns\n",
    "import sklearn as sk\n",
    "from sklearn.preprocessing import MinMaxScaler\n",
    "from sklearn.model_selection import train_test_split, GridSearchCV, ShuffleSplit, cross_val_score\n",
    "from sklearn.metrics import mean_squared_error\n",
    "from sklearn.linear_model import LinearRegression,Lasso, Ridge\n",
    "from xgboost import XGBRegressor\n",
    "import os\n",
    "import warnings\n",
    "import pickle\n",
    "import joblib\n",
    "warnings.filterwarnings('ignore')"
   ]
  },
  {
   "cell_type": "code",
   "execution_count": 3,
   "id": "c07e708d-3cc8-4f6f-9e2a-abef7468944e",
   "metadata": {},
   "outputs": [
    {
     "name": "stdout",
     "output_type": "stream",
     "text": [
      "D:\\ACADEMIC\\SEMESTER-5\\SPL-2\\SPL2-reantalapp\\server\\RentPrediction\\Notebook\n"
     ]
    }
   ],
   "source": [
    "print(os.getcwd())"
   ]
  },
  {
   "cell_type": "code",
   "execution_count": 4,
   "id": "324366cd-5a24-4283-a9fc-9da26cc41003",
   "metadata": {},
   "outputs": [
    {
     "name": "stdout",
     "output_type": "stream",
     "text": [
      "Dataset path: ..\\Data\\houserentdhaka.csv\n"
     ]
    }
   ],
   "source": [
    "data_path = os.path.join('..', 'Data', 'houserentdhaka.csv')\n",
    "print(\"Dataset path:\", data_path)"
   ]
  },
  {
   "cell_type": "code",
   "execution_count": 5,
   "id": "420d3ad8-8bf9-4e58-a36e-2d82c776bf2e",
   "metadata": {},
   "outputs": [],
   "source": [
    "df=pd.read_csv(data_path)"
   ]
  },
  {
   "cell_type": "code",
   "execution_count": 6,
   "id": "e8417ce4-9e4b-4337-b273-15c1c000a72c",
   "metadata": {},
   "outputs": [
    {
     "data": {
      "text/html": [
       "<div>\n",
       "<style scoped>\n",
       "    .dataframe tbody tr th:only-of-type {\n",
       "        vertical-align: middle;\n",
       "    }\n",
       "\n",
       "    .dataframe tbody tr th {\n",
       "        vertical-align: top;\n",
       "    }\n",
       "\n",
       "    .dataframe thead th {\n",
       "        text-align: right;\n",
       "    }\n",
       "</style>\n",
       "<table border=\"1\" class=\"dataframe\">\n",
       "  <thead>\n",
       "    <tr style=\"text-align: right;\">\n",
       "      <th></th>\n",
       "      <th>Unnamed: 0</th>\n",
       "      <th>Location</th>\n",
       "      <th>Area</th>\n",
       "      <th>Bed</th>\n",
       "      <th>Bath</th>\n",
       "      <th>Price</th>\n",
       "    </tr>\n",
       "  </thead>\n",
       "  <tbody>\n",
       "    <tr>\n",
       "      <th>0</th>\n",
       "      <td>0</td>\n",
       "      <td>Block H, Bashundhara R-A, Dhaka</td>\n",
       "      <td>1,600 sqft</td>\n",
       "      <td>3</td>\n",
       "      <td>3</td>\n",
       "      <td>20 Thousand</td>\n",
       "    </tr>\n",
       "    <tr>\n",
       "      <th>1</th>\n",
       "      <td>1</td>\n",
       "      <td>Farmgate, Tejgaon, Dhaka</td>\n",
       "      <td>900 sqft</td>\n",
       "      <td>2</td>\n",
       "      <td>2</td>\n",
       "      <td>20 Thousand</td>\n",
       "    </tr>\n",
       "    <tr>\n",
       "      <th>2</th>\n",
       "      <td>2</td>\n",
       "      <td>Block B, Nobodoy Housing Society, Mohammadpur,...</td>\n",
       "      <td>1,250 sqft</td>\n",
       "      <td>3</td>\n",
       "      <td>3</td>\n",
       "      <td>18 Thousand</td>\n",
       "    </tr>\n",
       "    <tr>\n",
       "      <th>3</th>\n",
       "      <td>3</td>\n",
       "      <td>Gulshan 1, Gulshan, Dhaka</td>\n",
       "      <td>2,200 sqft</td>\n",
       "      <td>3</td>\n",
       "      <td>4</td>\n",
       "      <td>75 Thousand</td>\n",
       "    </tr>\n",
       "    <tr>\n",
       "      <th>4</th>\n",
       "      <td>4</td>\n",
       "      <td>Baridhara, Dhaka</td>\n",
       "      <td>2,200 sqft</td>\n",
       "      <td>3</td>\n",
       "      <td>3</td>\n",
       "      <td>75 Thousand</td>\n",
       "    </tr>\n",
       "  </tbody>\n",
       "</table>\n",
       "</div>"
      ],
      "text/plain": [
       "   Unnamed: 0                                           Location        Area  \\\n",
       "0           0                    Block H, Bashundhara R-A, Dhaka  1,600 sqft   \n",
       "1           1                           Farmgate, Tejgaon, Dhaka    900 sqft   \n",
       "2           2  Block B, Nobodoy Housing Society, Mohammadpur,...  1,250 sqft   \n",
       "3           3                          Gulshan 1, Gulshan, Dhaka  2,200 sqft   \n",
       "4           4                                   Baridhara, Dhaka  2,200 sqft   \n",
       "\n",
       "   Bed  Bath        Price  \n",
       "0    3     3  20 Thousand  \n",
       "1    2     2  20 Thousand  \n",
       "2    3     3  18 Thousand  \n",
       "3    3     4  75 Thousand  \n",
       "4    3     3  75 Thousand  "
      ]
     },
     "execution_count": 6,
     "metadata": {},
     "output_type": "execute_result"
    }
   ],
   "source": [
    "df.head()"
   ]
  },
  {
   "cell_type": "code",
   "execution_count": 7,
   "id": "89667214-d4cd-418e-9eb2-d9c2af880c58",
   "metadata": {},
   "outputs": [
    {
     "data": {
      "text/plain": [
       "(28800, 6)"
      ]
     },
     "execution_count": 7,
     "metadata": {},
     "output_type": "execute_result"
    }
   ],
   "source": [
    "df.shape"
   ]
  },
  {
   "cell_type": "code",
   "execution_count": 8,
   "id": "8a47438b-d3c9-4e83-b75f-1cb25940b22e",
   "metadata": {},
   "outputs": [
    {
     "name": "stdout",
     "output_type": "stream",
     "text": [
      "<class 'pandas.core.frame.DataFrame'>\n",
      "RangeIndex: 28800 entries, 0 to 28799\n",
      "Data columns (total 6 columns):\n",
      " #   Column      Non-Null Count  Dtype \n",
      "---  ------      --------------  ----- \n",
      " 0   Unnamed: 0  28800 non-null  int64 \n",
      " 1   Location    28800 non-null  object\n",
      " 2   Area        28800 non-null  object\n",
      " 3   Bed         28800 non-null  int64 \n",
      " 4   Bath        28800 non-null  int64 \n",
      " 5   Price       28800 non-null  object\n",
      "dtypes: int64(3), object(3)\n",
      "memory usage: 1.3+ MB\n"
     ]
    }
   ],
   "source": [
    "df.info()"
   ]
  },
  {
   "cell_type": "code",
   "execution_count": 9,
   "id": "69ea81ad-8272-4552-a839-1235fba330f5",
   "metadata": {},
   "outputs": [
    {
     "data": {
      "text/plain": [
       "Index(['Unnamed: 0', 'Location', 'Area', 'Bed', 'Bath', 'Price'], dtype='object')"
      ]
     },
     "execution_count": 9,
     "metadata": {},
     "output_type": "execute_result"
    }
   ],
   "source": [
    "df.columns"
   ]
  },
  {
   "cell_type": "code",
   "execution_count": 10,
   "id": "b0594426-1fe4-435d-ad9d-fe464d967dd1",
   "metadata": {},
   "outputs": [],
   "source": [
    "df.rename({'Price':'Rent'},axis=1, inplace=True)"
   ]
  },
  {
   "cell_type": "code",
   "execution_count": 11,
   "id": "254b7602-0945-4d5a-95c0-e3ac5fb1045f",
   "metadata": {},
   "outputs": [],
   "source": [
    "df.drop(columns=df.columns[0], axis=1,inplace=True)"
   ]
  },
  {
   "cell_type": "code",
   "execution_count": 12,
   "id": "4a3568dd-4276-4d42-b968-d3a973b6bfd9",
   "metadata": {},
   "outputs": [
    {
     "data": {
      "text/html": [
       "<div>\n",
       "<style scoped>\n",
       "    .dataframe tbody tr th:only-of-type {\n",
       "        vertical-align: middle;\n",
       "    }\n",
       "\n",
       "    .dataframe tbody tr th {\n",
       "        vertical-align: top;\n",
       "    }\n",
       "\n",
       "    .dataframe thead th {\n",
       "        text-align: right;\n",
       "    }\n",
       "</style>\n",
       "<table border=\"1\" class=\"dataframe\">\n",
       "  <thead>\n",
       "    <tr style=\"text-align: right;\">\n",
       "      <th></th>\n",
       "      <th>Location</th>\n",
       "      <th>Area</th>\n",
       "      <th>Bed</th>\n",
       "      <th>Bath</th>\n",
       "      <th>Rent</th>\n",
       "    </tr>\n",
       "  </thead>\n",
       "  <tbody>\n",
       "    <tr>\n",
       "      <th>0</th>\n",
       "      <td>Block H, Bashundhara R-A, Dhaka</td>\n",
       "      <td>1,600 sqft</td>\n",
       "      <td>3</td>\n",
       "      <td>3</td>\n",
       "      <td>20 Thousand</td>\n",
       "    </tr>\n",
       "    <tr>\n",
       "      <th>1</th>\n",
       "      <td>Farmgate, Tejgaon, Dhaka</td>\n",
       "      <td>900 sqft</td>\n",
       "      <td>2</td>\n",
       "      <td>2</td>\n",
       "      <td>20 Thousand</td>\n",
       "    </tr>\n",
       "    <tr>\n",
       "      <th>2</th>\n",
       "      <td>Block B, Nobodoy Housing Society, Mohammadpur,...</td>\n",
       "      <td>1,250 sqft</td>\n",
       "      <td>3</td>\n",
       "      <td>3</td>\n",
       "      <td>18 Thousand</td>\n",
       "    </tr>\n",
       "    <tr>\n",
       "      <th>3</th>\n",
       "      <td>Gulshan 1, Gulshan, Dhaka</td>\n",
       "      <td>2,200 sqft</td>\n",
       "      <td>3</td>\n",
       "      <td>4</td>\n",
       "      <td>75 Thousand</td>\n",
       "    </tr>\n",
       "    <tr>\n",
       "      <th>4</th>\n",
       "      <td>Baridhara, Dhaka</td>\n",
       "      <td>2,200 sqft</td>\n",
       "      <td>3</td>\n",
       "      <td>3</td>\n",
       "      <td>75 Thousand</td>\n",
       "    </tr>\n",
       "  </tbody>\n",
       "</table>\n",
       "</div>"
      ],
      "text/plain": [
       "                                            Location        Area  Bed  Bath  \\\n",
       "0                    Block H, Bashundhara R-A, Dhaka  1,600 sqft    3     3   \n",
       "1                           Farmgate, Tejgaon, Dhaka    900 sqft    2     2   \n",
       "2  Block B, Nobodoy Housing Society, Mohammadpur,...  1,250 sqft    3     3   \n",
       "3                          Gulshan 1, Gulshan, Dhaka  2,200 sqft    3     4   \n",
       "4                                   Baridhara, Dhaka  2,200 sqft    3     3   \n",
       "\n",
       "          Rent  \n",
       "0  20 Thousand  \n",
       "1  20 Thousand  \n",
       "2  18 Thousand  \n",
       "3  75 Thousand  \n",
       "4  75 Thousand  "
      ]
     },
     "execution_count": 12,
     "metadata": {},
     "output_type": "execute_result"
    }
   ],
   "source": [
    "df.head()"
   ]
  },
  {
   "cell_type": "code",
   "execution_count": 13,
   "id": "fb52adcf-eb1f-493c-ab5c-7b5bee744aa4",
   "metadata": {},
   "outputs": [
    {
     "data": {
      "text/plain": [
       "Location    object\n",
       "Area        object\n",
       "Bed          int64\n",
       "Bath         int64\n",
       "Rent        object\n",
       "dtype: object"
      ]
     },
     "execution_count": 13,
     "metadata": {},
     "output_type": "execute_result"
    }
   ],
   "source": [
    "df.dtypes"
   ]
  },
  {
   "cell_type": "code",
   "execution_count": 14,
   "id": "0996fa23-12be-426a-8141-80e8ce94ea11",
   "metadata": {},
   "outputs": [
    {
     "data": {
      "text/plain": [
       "0                      Block H, Bashundhara R-A, Dhaka\n",
       "1                             Farmgate, Tejgaon, Dhaka\n",
       "2    Block B, Nobodoy Housing Society, Mohammadpur,...\n",
       "3                            Gulshan 1, Gulshan, Dhaka\n",
       "4                                     Baridhara, Dhaka\n",
       "Name: Location, dtype: object"
      ]
     },
     "execution_count": 14,
     "metadata": {},
     "output_type": "execute_result"
    }
   ],
   "source": [
    "df['Location'].head()"
   ]
  },
  {
   "cell_type": "code",
   "execution_count": 15,
   "id": "38153487-8762-4268-800c-73c716ecacbc",
   "metadata": {},
   "outputs": [
    {
     "data": {
      "text/plain": [
       "0    Bashundhara R-A\n",
       "1            Tejgaon\n",
       "2        Mohammadpur\n",
       "3            Gulshan\n",
       "4          Baridhara\n",
       "Name: Location, dtype: object"
      ]
     },
     "execution_count": 15,
     "metadata": {},
     "output_type": "execute_result"
    }
   ],
   "source": [
    "df['Location']=df['Location'].str.split(',').str[:-1]\n",
    "\n",
    "df['Location'] = df['Location'].str[-1]\n",
    "\n",
    "df['Location'] = df['Location'].str.strip()\n",
    "\n",
    "df['Location'].head()"
   ]
  },
  {
   "cell_type": "code",
   "execution_count": 16,
   "id": "e3844e3d-a4f8-49a2-9f42-e1d1078d4788",
   "metadata": {},
   "outputs": [],
   "source": [
    "df['Area']=df['Area'].str.split(' ').str[:-1]"
   ]
  },
  {
   "cell_type": "code",
   "execution_count": 17,
   "id": "d6ad522f-aa51-4bf3-b4d9-5063378f81e7",
   "metadata": {},
   "outputs": [
    {
     "data": {
      "text/plain": [
       "0    [1,600]\n",
       "1      [900]\n",
       "2    [1,250]\n",
       "3    [2,200]\n",
       "4    [2,200]\n",
       "Name: Area, dtype: object"
      ]
     },
     "execution_count": 17,
     "metadata": {},
     "output_type": "execute_result"
    }
   ],
   "source": [
    "df['Area'].head()"
   ]
  },
  {
   "cell_type": "code",
   "execution_count": 18,
   "id": "c23deabf-ee01-4565-91bb-47b1f704f7e9",
   "metadata": {},
   "outputs": [],
   "source": [
    "df['Area'] = df['Area'].apply(lambda x: ''.join(map(str, x)))"
   ]
  },
  {
   "cell_type": "code",
   "execution_count": 19,
   "id": "732862f2-8c65-4a45-9feb-eb81adb65e77",
   "metadata": {},
   "outputs": [],
   "source": [
    "df['Area'] = df['Area'].str.replace(',','')"
   ]
  },
  {
   "cell_type": "code",
   "execution_count": 20,
   "id": "8b2c96b6-ae52-44e4-a266-cb3d15b10bc0",
   "metadata": {},
   "outputs": [],
   "source": [
    "df['Area'] = df['Area'].astype(int)"
   ]
  },
  {
   "cell_type": "code",
   "execution_count": 21,
   "id": "34ecc2f0-4ba0-4cd4-bbb4-098876eed843",
   "metadata": {},
   "outputs": [
    {
     "data": {
      "text/plain": [
       "0    1600\n",
       "1     900\n",
       "2    1250\n",
       "3    2200\n",
       "4    2200\n",
       "Name: Area, dtype: int64"
      ]
     },
     "execution_count": 21,
     "metadata": {},
     "output_type": "execute_result"
    }
   ],
   "source": [
    "df['Area'].head()"
   ]
  },
  {
   "cell_type": "code",
   "execution_count": 22,
   "id": "7575c58f-f600-4981-b710-352e5585a1ee",
   "metadata": {},
   "outputs": [
    {
     "name": "stdout",
     "output_type": "stream",
     "text": [
      "int64\n"
     ]
    }
   ],
   "source": [
    "print(df['Area'].dtype)"
   ]
  },
  {
   "cell_type": "code",
   "execution_count": 23,
   "id": "3f1a93a2-0955-4a61-8d1c-6bee302a6fe3",
   "metadata": {},
   "outputs": [],
   "source": [
    "df['Area'] = df['Area'].astype(\"int64\")"
   ]
  },
  {
   "cell_type": "code",
   "execution_count": 24,
   "id": "967dca83-98a6-4fe3-bbe5-c74f3117bee4",
   "metadata": {},
   "outputs": [
    {
     "name": "stdout",
     "output_type": "stream",
     "text": [
      "int64\n"
     ]
    }
   ],
   "source": [
    "print(df['Area'].dtypes)"
   ]
  },
  {
   "cell_type": "code",
   "execution_count": 25,
   "id": "f986328b-0f7f-4816-950a-ba85e4f9049c",
   "metadata": {},
   "outputs": [
    {
     "data": {
      "text/plain": [
       "0    1600\n",
       "1     900\n",
       "2    1250\n",
       "3    2200\n",
       "4    2200\n",
       "Name: Area, dtype: int64"
      ]
     },
     "execution_count": 25,
     "metadata": {},
     "output_type": "execute_result"
    }
   ],
   "source": [
    "df['Area'].head()"
   ]
  },
  {
   "cell_type": "code",
   "execution_count": 26,
   "id": "3d54e6f9-b910-4f8d-ab69-c6be708cc45b",
   "metadata": {},
   "outputs": [
    {
     "data": {
      "text/plain": [
       "0    20000\n",
       "1    20000\n",
       "2    18000\n",
       "3    75000\n",
       "4    75000\n",
       "Name: Rent, dtype: int64"
      ]
     },
     "execution_count": 26,
     "metadata": {},
     "output_type": "execute_result"
    }
   ],
   "source": [
    "df['Rent']=df['Rent'].replace({\"Thousand\":\"*1e3\", \"Lakh\":\"*1e5\"}, regex=True).map(pd.eval).astype(\"int64\")\n",
    "\n",
    "df['Rent'].head()"
   ]
  },
  {
   "cell_type": "code",
   "execution_count": 27,
   "id": "261f7031-09ef-4d01-94ba-569b357b965e",
   "metadata": {},
   "outputs": [
    {
     "data": {
      "text/html": [
       "<div>\n",
       "<style scoped>\n",
       "    .dataframe tbody tr th:only-of-type {\n",
       "        vertical-align: middle;\n",
       "    }\n",
       "\n",
       "    .dataframe tbody tr th {\n",
       "        vertical-align: top;\n",
       "    }\n",
       "\n",
       "    .dataframe thead th {\n",
       "        text-align: right;\n",
       "    }\n",
       "</style>\n",
       "<table border=\"1\" class=\"dataframe\">\n",
       "  <thead>\n",
       "    <tr style=\"text-align: right;\">\n",
       "      <th></th>\n",
       "      <th>Location</th>\n",
       "      <th>Area</th>\n",
       "      <th>Bed</th>\n",
       "      <th>Bath</th>\n",
       "      <th>Rent</th>\n",
       "    </tr>\n",
       "  </thead>\n",
       "  <tbody>\n",
       "    <tr>\n",
       "      <th>0</th>\n",
       "      <td>Bashundhara R-A</td>\n",
       "      <td>1600</td>\n",
       "      <td>3</td>\n",
       "      <td>3</td>\n",
       "      <td>20000</td>\n",
       "    </tr>\n",
       "    <tr>\n",
       "      <th>1</th>\n",
       "      <td>Tejgaon</td>\n",
       "      <td>900</td>\n",
       "      <td>2</td>\n",
       "      <td>2</td>\n",
       "      <td>20000</td>\n",
       "    </tr>\n",
       "    <tr>\n",
       "      <th>2</th>\n",
       "      <td>Mohammadpur</td>\n",
       "      <td>1250</td>\n",
       "      <td>3</td>\n",
       "      <td>3</td>\n",
       "      <td>18000</td>\n",
       "    </tr>\n",
       "    <tr>\n",
       "      <th>3</th>\n",
       "      <td>Gulshan</td>\n",
       "      <td>2200</td>\n",
       "      <td>3</td>\n",
       "      <td>4</td>\n",
       "      <td>75000</td>\n",
       "    </tr>\n",
       "    <tr>\n",
       "      <th>4</th>\n",
       "      <td>Baridhara</td>\n",
       "      <td>2200</td>\n",
       "      <td>3</td>\n",
       "      <td>3</td>\n",
       "      <td>75000</td>\n",
       "    </tr>\n",
       "  </tbody>\n",
       "</table>\n",
       "</div>"
      ],
      "text/plain": [
       "          Location  Area  Bed  Bath   Rent\n",
       "0  Bashundhara R-A  1600    3     3  20000\n",
       "1          Tejgaon   900    2     2  20000\n",
       "2      Mohammadpur  1250    3     3  18000\n",
       "3          Gulshan  2200    3     4  75000\n",
       "4        Baridhara  2200    3     3  75000"
      ]
     },
     "execution_count": 27,
     "metadata": {},
     "output_type": "execute_result"
    }
   ],
   "source": [
    "df.head()"
   ]
  },
  {
   "cell_type": "code",
   "execution_count": 28,
   "id": "f069934d-359e-4178-98e6-efec69fca290",
   "metadata": {},
   "outputs": [
    {
     "data": {
      "text/plain": [
       "Location    object\n",
       "Area         int64\n",
       "Bed          int64\n",
       "Bath         int64\n",
       "Rent         int64\n",
       "dtype: object"
      ]
     },
     "execution_count": 28,
     "metadata": {},
     "output_type": "execute_result"
    }
   ],
   "source": [
    "df.dtypes"
   ]
  },
  {
   "cell_type": "code",
   "execution_count": 29,
   "id": "b4f4dcc6-9e3c-4fb7-976f-a97c3ac1d6b5",
   "metadata": {},
   "outputs": [
    {
     "data": {
      "text/plain": [
       "Location    13\n",
       "Area         0\n",
       "Bed          0\n",
       "Bath         0\n",
       "Rent         0\n",
       "dtype: int64"
      ]
     },
     "execution_count": 29,
     "metadata": {},
     "output_type": "execute_result"
    }
   ],
   "source": [
    "df.isna().sum()"
   ]
  },
  {
   "cell_type": "code",
   "execution_count": 30,
   "id": "c420e897-3a8c-4f2a-852c-cf17846126dd",
   "metadata": {},
   "outputs": [],
   "source": [
    "df.dropna(inplace=True)"
   ]
  },
  {
   "cell_type": "code",
   "execution_count": 31,
   "id": "3a430b7f-feb9-471d-816a-3bee0fea4838",
   "metadata": {},
   "outputs": [
    {
     "data": {
      "text/html": [
       "<div>\n",
       "<style scoped>\n",
       "    .dataframe tbody tr th:only-of-type {\n",
       "        vertical-align: middle;\n",
       "    }\n",
       "\n",
       "    .dataframe tbody tr th {\n",
       "        vertical-align: top;\n",
       "    }\n",
       "\n",
       "    .dataframe thead th {\n",
       "        text-align: right;\n",
       "    }\n",
       "</style>\n",
       "<table border=\"1\" class=\"dataframe\">\n",
       "  <thead>\n",
       "    <tr style=\"text-align: right;\">\n",
       "      <th></th>\n",
       "      <th>Location</th>\n",
       "      <th>Area</th>\n",
       "      <th>Bed</th>\n",
       "      <th>Bath</th>\n",
       "      <th>Rent</th>\n",
       "    </tr>\n",
       "  </thead>\n",
       "  <tbody>\n",
       "    <tr>\n",
       "      <th>0</th>\n",
       "      <td>Bashundhara R-A</td>\n",
       "      <td>1600</td>\n",
       "      <td>3</td>\n",
       "      <td>3</td>\n",
       "      <td>20000</td>\n",
       "    </tr>\n",
       "    <tr>\n",
       "      <th>1</th>\n",
       "      <td>Tejgaon</td>\n",
       "      <td>900</td>\n",
       "      <td>2</td>\n",
       "      <td>2</td>\n",
       "      <td>20000</td>\n",
       "    </tr>\n",
       "    <tr>\n",
       "      <th>2</th>\n",
       "      <td>Mohammadpur</td>\n",
       "      <td>1250</td>\n",
       "      <td>3</td>\n",
       "      <td>3</td>\n",
       "      <td>18000</td>\n",
       "    </tr>\n",
       "    <tr>\n",
       "      <th>3</th>\n",
       "      <td>Gulshan</td>\n",
       "      <td>2200</td>\n",
       "      <td>3</td>\n",
       "      <td>4</td>\n",
       "      <td>75000</td>\n",
       "    </tr>\n",
       "    <tr>\n",
       "      <th>4</th>\n",
       "      <td>Baridhara</td>\n",
       "      <td>2200</td>\n",
       "      <td>3</td>\n",
       "      <td>3</td>\n",
       "      <td>75000</td>\n",
       "    </tr>\n",
       "  </tbody>\n",
       "</table>\n",
       "</div>"
      ],
      "text/plain": [
       "          Location  Area  Bed  Bath   Rent\n",
       "0  Bashundhara R-A  1600    3     3  20000\n",
       "1          Tejgaon   900    2     2  20000\n",
       "2      Mohammadpur  1250    3     3  18000\n",
       "3          Gulshan  2200    3     4  75000\n",
       "4        Baridhara  2200    3     3  75000"
      ]
     },
     "execution_count": 31,
     "metadata": {},
     "output_type": "execute_result"
    }
   ],
   "source": [
    "df.head()"
   ]
  },
  {
   "cell_type": "code",
   "execution_count": 32,
   "id": "6da7ad57-d4f3-48b5-9cf3-0f73f638952c",
   "metadata": {},
   "outputs": [
    {
     "data": {
      "text/html": [
       "<div>\n",
       "<style scoped>\n",
       "    .dataframe tbody tr th:only-of-type {\n",
       "        vertical-align: middle;\n",
       "    }\n",
       "\n",
       "    .dataframe tbody tr th {\n",
       "        vertical-align: top;\n",
       "    }\n",
       "\n",
       "    .dataframe thead th {\n",
       "        text-align: right;\n",
       "    }\n",
       "</style>\n",
       "<table border=\"1\" class=\"dataframe\">\n",
       "  <thead>\n",
       "    <tr style=\"text-align: right;\">\n",
       "      <th></th>\n",
       "      <th>Location</th>\n",
       "      <th>Area</th>\n",
       "      <th>Bed</th>\n",
       "      <th>Bath</th>\n",
       "      <th>Rent</th>\n",
       "      <th>Price_Per_Sqft</th>\n",
       "    </tr>\n",
       "  </thead>\n",
       "  <tbody>\n",
       "    <tr>\n",
       "      <th>0</th>\n",
       "      <td>Bashundhara R-A</td>\n",
       "      <td>1600</td>\n",
       "      <td>3</td>\n",
       "      <td>3</td>\n",
       "      <td>20000</td>\n",
       "      <td>12.500000</td>\n",
       "    </tr>\n",
       "    <tr>\n",
       "      <th>1</th>\n",
       "      <td>Tejgaon</td>\n",
       "      <td>900</td>\n",
       "      <td>2</td>\n",
       "      <td>2</td>\n",
       "      <td>20000</td>\n",
       "      <td>22.222222</td>\n",
       "    </tr>\n",
       "    <tr>\n",
       "      <th>2</th>\n",
       "      <td>Mohammadpur</td>\n",
       "      <td>1250</td>\n",
       "      <td>3</td>\n",
       "      <td>3</td>\n",
       "      <td>18000</td>\n",
       "      <td>14.400000</td>\n",
       "    </tr>\n",
       "    <tr>\n",
       "      <th>3</th>\n",
       "      <td>Gulshan</td>\n",
       "      <td>2200</td>\n",
       "      <td>3</td>\n",
       "      <td>4</td>\n",
       "      <td>75000</td>\n",
       "      <td>34.090909</td>\n",
       "    </tr>\n",
       "    <tr>\n",
       "      <th>4</th>\n",
       "      <td>Baridhara</td>\n",
       "      <td>2200</td>\n",
       "      <td>3</td>\n",
       "      <td>3</td>\n",
       "      <td>75000</td>\n",
       "      <td>34.090909</td>\n",
       "    </tr>\n",
       "  </tbody>\n",
       "</table>\n",
       "</div>"
      ],
      "text/plain": [
       "          Location  Area  Bed  Bath   Rent  Price_Per_Sqft\n",
       "0  Bashundhara R-A  1600    3     3  20000       12.500000\n",
       "1          Tejgaon   900    2     2  20000       22.222222\n",
       "2      Mohammadpur  1250    3     3  18000       14.400000\n",
       "3          Gulshan  2200    3     4  75000       34.090909\n",
       "4        Baridhara  2200    3     3  75000       34.090909"
      ]
     },
     "execution_count": 32,
     "metadata": {},
     "output_type": "execute_result"
    }
   ],
   "source": [
    "df1=df.copy()\n",
    "df1['Price_Per_Sqft']=df1['Rent']/df1['Area']\n",
    "df1.head()"
   ]
  },
  {
   "cell_type": "code",
   "execution_count": 33,
   "id": "d50bb4e6-4fa6-4912-aa34-384d22c0f6f0",
   "metadata": {},
   "outputs": [
    {
     "data": {
      "text/plain": [
       "68"
      ]
     },
     "execution_count": 33,
     "metadata": {},
     "output_type": "execute_result"
    }
   ],
   "source": [
    "len(df1['Location'].unique())"
   ]
  },
  {
   "cell_type": "code",
   "execution_count": 34,
   "id": "c3083864-4faf-4e0d-8e60-ebd035d41faa",
   "metadata": {},
   "outputs": [
    {
     "name": "stdout",
     "output_type": "stream",
     "text": [
      "['Bashundhara R-A' 'Tejgaon' 'Mohammadpur' 'Gulshan' 'Baridhara'\n",
      " 'Hazaribag' 'Mirpur' 'Nikunja' 'Uttara' 'Khilgaon' 'Ibrahimpur' 'Badda'\n",
      " 'Adabor' 'Jatra Bari' 'Malibagh' 'Banani' 'Kakrail' 'Dhanmondi'\n",
      " 'Maghbazar' 'Kalachandpur' 'Niketan' 'Eskaton' 'Banasree' 'Bashabo'\n",
      " 'Baridhara DOHS' 'Aftab Nagar' 'Lalmatia' 'Dakshin Khan' 'Mohakhali DOHS'\n",
      " 'Sutrapur' 'Hatirpool' 'Agargaon' 'Rampura' 'Cantonment' 'Shahbagh'\n",
      " 'Khilkhet' 'Motijheel' 'Shantinagar' 'Shegunbagicha' 'Kathalbagan'\n",
      " 'Shyamoli' 'Kalabagan' 'Demra' 'Kuril' 'Mohakhali' 'Lalbagh' 'New Market'\n",
      " 'Kafrul' 'Kachukhet' 'Turag' 'Nadda' 'Shyampur' 'Maniknagar'\n",
      " 'Banani DOHS' 'Shiddheswari' 'Bangshal' 'Paribagh' 'Joar Sahara'\n",
      " 'Mugdapara' 'North Shahjahanpur' 'Kotwali' 'Shahjahanpur' 'Uttar Khan'\n",
      " 'Taltola' 'Sadarghat' 'Banglamotors' 'Zafrabad' 'Keraniganj']\n"
     ]
    }
   ],
   "source": [
    "print(df1['Location'].unique())"
   ]
  },
  {
   "cell_type": "code",
   "execution_count": 35,
   "id": "4f7bd259-0a3b-47c7-b33e-894455597dbc",
   "metadata": {},
   "outputs": [],
   "source": [
    "location_count = df1['Location'].value_counts(ascending=False)"
   ]
  },
  {
   "cell_type": "code",
   "execution_count": 36,
   "id": "a85710c5-81b9-47ab-87b6-62393ab9275e",
   "metadata": {},
   "outputs": [
    {
     "data": {
      "text/plain": [
       "Location\n",
       "Mirpur             8451\n",
       "Mohammadpur        3612\n",
       "Uttara             2070\n",
       "Badda              1831\n",
       "Bashundhara R-A    1397\n",
       "Name: count, dtype: int64"
      ]
     },
     "execution_count": 36,
     "metadata": {},
     "output_type": "execute_result"
    }
   ],
   "source": [
    "location_count.head()"
   ]
  },
  {
   "cell_type": "code",
   "execution_count": 37,
   "id": "b3e0bb9d-9db9-4846-af20-37ccc55e0170",
   "metadata": {},
   "outputs": [
    {
     "data": {
      "text/plain": [
       "9"
      ]
     },
     "execution_count": 37,
     "metadata": {},
     "output_type": "execute_result"
    }
   ],
   "source": [
    "len(location_count[location_count<=10])"
   ]
  },
  {
   "cell_type": "code",
   "execution_count": 38,
   "id": "66df926f-a565-4e47-85f7-ee3b90158abe",
   "metadata": {},
   "outputs": [],
   "source": [
    "location_count_less_than_ten=location_count[location_count<=10]"
   ]
  },
  {
   "cell_type": "code",
   "execution_count": 39,
   "id": "1371a475-7e0e-4132-9693-ce493e3650e2",
   "metadata": {},
   "outputs": [],
   "source": [
    "df1.Location = df1.Location.apply(lambda x: 'other' if x in location_count_less_than_ten else x)"
   ]
  },
  {
   "cell_type": "code",
   "execution_count": 40,
   "id": "006afcba-7ba8-4957-b880-7980ea7a3dcc",
   "metadata": {},
   "outputs": [
    {
     "data": {
      "text/plain": [
       "60"
      ]
     },
     "execution_count": 40,
     "metadata": {},
     "output_type": "execute_result"
    }
   ],
   "source": [
    "len(df1['Location'].unique())"
   ]
  },
  {
   "cell_type": "code",
   "execution_count": 41,
   "id": "12bba6dd-b398-4ab3-a40c-406571b6e819",
   "metadata": {},
   "outputs": [
    {
     "data": {
      "text/html": [
       "<div>\n",
       "<style scoped>\n",
       "    .dataframe tbody tr th:only-of-type {\n",
       "        vertical-align: middle;\n",
       "    }\n",
       "\n",
       "    .dataframe tbody tr th {\n",
       "        vertical-align: top;\n",
       "    }\n",
       "\n",
       "    .dataframe thead th {\n",
       "        text-align: right;\n",
       "    }\n",
       "</style>\n",
       "<table border=\"1\" class=\"dataframe\">\n",
       "  <thead>\n",
       "    <tr style=\"text-align: right;\">\n",
       "      <th></th>\n",
       "      <th>Location</th>\n",
       "      <th>Area</th>\n",
       "      <th>Bed</th>\n",
       "      <th>Bath</th>\n",
       "      <th>Rent</th>\n",
       "      <th>Price_Per_Sqft</th>\n",
       "    </tr>\n",
       "  </thead>\n",
       "  <tbody>\n",
       "    <tr>\n",
       "      <th>39</th>\n",
       "      <td>Jatra Bari</td>\n",
       "      <td>800</td>\n",
       "      <td>3</td>\n",
       "      <td>2</td>\n",
       "      <td>15000</td>\n",
       "      <td>18.750000</td>\n",
       "    </tr>\n",
       "    <tr>\n",
       "      <th>86</th>\n",
       "      <td>Mirpur</td>\n",
       "      <td>745</td>\n",
       "      <td>3</td>\n",
       "      <td>2</td>\n",
       "      <td>15000</td>\n",
       "      <td>20.134228</td>\n",
       "    </tr>\n",
       "    <tr>\n",
       "      <th>135</th>\n",
       "      <td>Jatra Bari</td>\n",
       "      <td>800</td>\n",
       "      <td>3</td>\n",
       "      <td>2</td>\n",
       "      <td>15000</td>\n",
       "      <td>18.750000</td>\n",
       "    </tr>\n",
       "    <tr>\n",
       "      <th>186</th>\n",
       "      <td>Maghbazar</td>\n",
       "      <td>550</td>\n",
       "      <td>2</td>\n",
       "      <td>2</td>\n",
       "      <td>13000</td>\n",
       "      <td>23.636364</td>\n",
       "    </tr>\n",
       "    <tr>\n",
       "      <th>191</th>\n",
       "      <td>Adabor</td>\n",
       "      <td>550</td>\n",
       "      <td>2</td>\n",
       "      <td>1</td>\n",
       "      <td>8500</td>\n",
       "      <td>15.454545</td>\n",
       "    </tr>\n",
       "    <tr>\n",
       "      <th>193</th>\n",
       "      <td>Khilgaon</td>\n",
       "      <td>550</td>\n",
       "      <td>2</td>\n",
       "      <td>1</td>\n",
       "      <td>11000</td>\n",
       "      <td>20.000000</td>\n",
       "    </tr>\n",
       "    <tr>\n",
       "      <th>195</th>\n",
       "      <td>Mirpur</td>\n",
       "      <td>850</td>\n",
       "      <td>3</td>\n",
       "      <td>2</td>\n",
       "      <td>13000</td>\n",
       "      <td>15.294118</td>\n",
       "    </tr>\n",
       "    <tr>\n",
       "      <th>205</th>\n",
       "      <td>Jatra Bari</td>\n",
       "      <td>800</td>\n",
       "      <td>3</td>\n",
       "      <td>2</td>\n",
       "      <td>15000</td>\n",
       "      <td>18.750000</td>\n",
       "    </tr>\n",
       "    <tr>\n",
       "      <th>252</th>\n",
       "      <td>Mohammadpur</td>\n",
       "      <td>750</td>\n",
       "      <td>3</td>\n",
       "      <td>2</td>\n",
       "      <td>16000</td>\n",
       "      <td>21.333333</td>\n",
       "    </tr>\n",
       "    <tr>\n",
       "      <th>260</th>\n",
       "      <td>Dakshin Khan</td>\n",
       "      <td>800</td>\n",
       "      <td>3</td>\n",
       "      <td>2</td>\n",
       "      <td>8500</td>\n",
       "      <td>10.625000</td>\n",
       "    </tr>\n",
       "  </tbody>\n",
       "</table>\n",
       "</div>"
      ],
      "text/plain": [
       "         Location  Area  Bed  Bath   Rent  Price_Per_Sqft\n",
       "39     Jatra Bari   800    3     2  15000       18.750000\n",
       "86         Mirpur   745    3     2  15000       20.134228\n",
       "135    Jatra Bari   800    3     2  15000       18.750000\n",
       "186     Maghbazar   550    2     2  13000       23.636364\n",
       "191        Adabor   550    2     1   8500       15.454545\n",
       "193      Khilgaon   550    2     1  11000       20.000000\n",
       "195        Mirpur   850    3     2  13000       15.294118\n",
       "205    Jatra Bari   800    3     2  15000       18.750000\n",
       "252   Mohammadpur   750    3     2  16000       21.333333\n",
       "260  Dakshin Khan   800    3     2   8500       10.625000"
      ]
     },
     "execution_count": 41,
     "metadata": {},
     "output_type": "execute_result"
    }
   ],
   "source": [
    "df1[df1.Area/df1.Bed<300].head(10) #Unrealistic ratio "
   ]
  },
  {
   "cell_type": "code",
   "execution_count": 42,
   "id": "9753b28f-bd58-44cb-847f-3e22a59de426",
   "metadata": {},
   "outputs": [
    {
     "data": {
      "text/plain": [
       "(28787, 6)"
      ]
     },
     "execution_count": 42,
     "metadata": {},
     "output_type": "execute_result"
    }
   ],
   "source": [
    "df1.shape"
   ]
  },
  {
   "cell_type": "code",
   "execution_count": 43,
   "id": "0a3d1e83-4449-46ee-9344-0454be00ac2b",
   "metadata": {},
   "outputs": [
    {
     "data": {
      "text/plain": [
       "(27866, 6)"
      ]
     },
     "execution_count": 43,
     "metadata": {},
     "output_type": "execute_result"
    }
   ],
   "source": [
    "df2=df1[~(df1.Area/df1.Bed<300)]\n",
    "df2.shape"
   ]
  },
  {
   "cell_type": "code",
   "execution_count": 44,
   "id": "52ef5085-5d7e-4faa-85ef-cb1cabec88fe",
   "metadata": {},
   "outputs": [
    {
     "data": {
      "text/plain": [
       "count    27866.000000\n",
       "mean        18.947709\n",
       "std          6.576776\n",
       "min          6.500000\n",
       "25%         15.384615\n",
       "50%         18.000000\n",
       "75%         20.952381\n",
       "max        228.571429\n",
       "Name: Price_Per_Sqft, dtype: float64"
      ]
     },
     "execution_count": 44,
     "metadata": {},
     "output_type": "execute_result"
    }
   ],
   "source": [
    "df2.Price_Per_Sqft.describe()"
   ]
  },
  {
   "cell_type": "code",
   "execution_count": 45,
   "id": "539f1804-592b-42d5-8913-33f27eed57df",
   "metadata": {},
   "outputs": [
    {
     "data": {
      "text/plain": [
       "(19889, 6)"
      ]
     },
     "execution_count": 45,
     "metadata": {},
     "output_type": "execute_result"
    }
   ],
   "source": [
    "def remove_pps_outliers(df):\n",
    "    df_out = pd.DataFrame()\n",
    "    for key, subdf in df.groupby('Location'):\n",
    "        m=np.mean(subdf.Price_Per_Sqft)\n",
    "        st=np.std(subdf.Price_Per_Sqft)\n",
    "        reduced_df=subdf[(subdf.Price_Per_Sqft>(m-st)) & (subdf.Price_Per_Sqft<=(m+st))]\n",
    "        df_out=pd.concat([df_out,reduced_df],ignore_index=True)\n",
    "    return df_out\n",
    "\n",
    "df3=remove_pps_outliers(df2)\n",
    "df3.shape"
   ]
  },
  {
   "cell_type": "code",
   "execution_count": 46,
   "id": "4fa16238-9f14-41ae-a952-7488261b4d2a",
   "metadata": {},
   "outputs": [
    {
     "data": {
      "text/plain": [
       "(9750, 6)"
      ]
     },
     "execution_count": 46,
     "metadata": {},
     "output_type": "execute_result"
    }
   ],
   "source": [
    "def remove_bedroom_outliers(df):\n",
    "    exclude_indices=np.array([])\n",
    "    for location, location_df in df.groupby('Location'):\n",
    "        bed_stats={}\n",
    "        for bed,bed_df in location_df.groupby('Bed'):\n",
    "            bed_stats[bed]={\n",
    "                'mean':np.mean(bed_df.Price_Per_Sqft),\n",
    "                'std':np.std(bed_df.Price_Per_Sqft),\n",
    "                'count':bed_df.shape[0]\n",
    "            }\n",
    "        for bed,bed_df in location_df.groupby('Bed'):\n",
    "            stats=bed_stats.get(bed-1)\n",
    "            if stats and stats['count']>5:\n",
    "                exclude_indices=np.append(exclude_indices, bed_df[bed_df.Price_Per_Sqft<(stats['mean'])].index.values)\n",
    "    return df.drop(exclude_indices,axis='index')\n",
    "\n",
    "df4=remove_bedroom_outliers(df3)\n",
    "df4.shape"
   ]
  },
  {
   "cell_type": "code",
   "execution_count": 47,
   "id": "0bb1a36a-bcda-402a-88d1-05d16b148b2e",
   "metadata": {},
   "outputs": [
    {
     "data": {
      "text/plain": [
       "array([3, 2, 1, 4, 5, 6])"
      ]
     },
     "execution_count": 47,
     "metadata": {},
     "output_type": "execute_result"
    }
   ],
   "source": [
    "df4.Bath.unique()"
   ]
  },
  {
   "cell_type": "code",
   "execution_count": 48,
   "id": "6f602395-7fea-4403-ad04-43c17e8476ca",
   "metadata": {},
   "outputs": [
    {
     "data": {
      "text/plain": [
       "(9750, 6)"
      ]
     },
     "execution_count": 48,
     "metadata": {},
     "output_type": "execute_result"
    }
   ],
   "source": [
    "df5=df4[df4.Bath<df4.Bath+2]\n",
    "df5.shape"
   ]
  },
  {
   "cell_type": "code",
   "execution_count": 49,
   "id": "524465f6-c151-4931-b613-d6501edf76c1",
   "metadata": {},
   "outputs": [],
   "source": [
    "df6=df5.drop(['Price_Per_Sqft'],axis='columns')"
   ]
  },
  {
   "cell_type": "code",
   "execution_count": 50,
   "id": "190b69ea-19f1-4cfb-a7f0-98a00478d7a6",
   "metadata": {},
   "outputs": [
    {
     "data": {
      "text/plain": [
       "(9750, 5)"
      ]
     },
     "execution_count": 50,
     "metadata": {},
     "output_type": "execute_result"
    }
   ],
   "source": [
    "df6.shape"
   ]
  },
  {
   "cell_type": "code",
   "execution_count": 51,
   "id": "5be580e1-96eb-4e1b-b38e-d0d88e212405",
   "metadata": {},
   "outputs": [
    {
     "data": {
      "text/html": [
       "<div>\n",
       "<style scoped>\n",
       "    .dataframe tbody tr th:only-of-type {\n",
       "        vertical-align: middle;\n",
       "    }\n",
       "\n",
       "    .dataframe tbody tr th {\n",
       "        vertical-align: top;\n",
       "    }\n",
       "\n",
       "    .dataframe thead th {\n",
       "        text-align: right;\n",
       "    }\n",
       "</style>\n",
       "<table border=\"1\" class=\"dataframe\">\n",
       "  <thead>\n",
       "    <tr style=\"text-align: right;\">\n",
       "      <th></th>\n",
       "      <th>Location</th>\n",
       "      <th>Area</th>\n",
       "      <th>Bed</th>\n",
       "      <th>Bath</th>\n",
       "      <th>Rent</th>\n",
       "    </tr>\n",
       "  </thead>\n",
       "  <tbody>\n",
       "    <tr>\n",
       "      <th>10</th>\n",
       "      <td>Adabor</td>\n",
       "      <td>1550</td>\n",
       "      <td>3</td>\n",
       "      <td>3</td>\n",
       "      <td>30000</td>\n",
       "    </tr>\n",
       "    <tr>\n",
       "      <th>13</th>\n",
       "      <td>Adabor</td>\n",
       "      <td>800</td>\n",
       "      <td>2</td>\n",
       "      <td>2</td>\n",
       "      <td>16000</td>\n",
       "    </tr>\n",
       "    <tr>\n",
       "      <th>14</th>\n",
       "      <td>Adabor</td>\n",
       "      <td>850</td>\n",
       "      <td>2</td>\n",
       "      <td>2</td>\n",
       "      <td>15000</td>\n",
       "    </tr>\n",
       "    <tr>\n",
       "      <th>17</th>\n",
       "      <td>Adabor</td>\n",
       "      <td>1550</td>\n",
       "      <td>3</td>\n",
       "      <td>3</td>\n",
       "      <td>30000</td>\n",
       "    </tr>\n",
       "    <tr>\n",
       "      <th>19</th>\n",
       "      <td>Adabor</td>\n",
       "      <td>1550</td>\n",
       "      <td>3</td>\n",
       "      <td>3</td>\n",
       "      <td>30000</td>\n",
       "    </tr>\n",
       "    <tr>\n",
       "      <th>20</th>\n",
       "      <td>Adabor</td>\n",
       "      <td>800</td>\n",
       "      <td>2</td>\n",
       "      <td>2</td>\n",
       "      <td>15000</td>\n",
       "    </tr>\n",
       "    <tr>\n",
       "      <th>21</th>\n",
       "      <td>Adabor</td>\n",
       "      <td>800</td>\n",
       "      <td>2</td>\n",
       "      <td>2</td>\n",
       "      <td>15000</td>\n",
       "    </tr>\n",
       "    <tr>\n",
       "      <th>23</th>\n",
       "      <td>Adabor</td>\n",
       "      <td>800</td>\n",
       "      <td>2</td>\n",
       "      <td>2</td>\n",
       "      <td>14000</td>\n",
       "    </tr>\n",
       "    <tr>\n",
       "      <th>26</th>\n",
       "      <td>Adabor</td>\n",
       "      <td>850</td>\n",
       "      <td>2</td>\n",
       "      <td>2</td>\n",
       "      <td>15000</td>\n",
       "    </tr>\n",
       "    <tr>\n",
       "      <th>27</th>\n",
       "      <td>Adabor</td>\n",
       "      <td>800</td>\n",
       "      <td>2</td>\n",
       "      <td>2</td>\n",
       "      <td>15500</td>\n",
       "    </tr>\n",
       "    <tr>\n",
       "      <th>28</th>\n",
       "      <td>Adabor</td>\n",
       "      <td>850</td>\n",
       "      <td>2</td>\n",
       "      <td>2</td>\n",
       "      <td>15000</td>\n",
       "    </tr>\n",
       "    <tr>\n",
       "      <th>31</th>\n",
       "      <td>Adabor</td>\n",
       "      <td>780</td>\n",
       "      <td>2</td>\n",
       "      <td>2</td>\n",
       "      <td>15000</td>\n",
       "    </tr>\n",
       "    <tr>\n",
       "      <th>32</th>\n",
       "      <td>Adabor</td>\n",
       "      <td>800</td>\n",
       "      <td>2</td>\n",
       "      <td>2</td>\n",
       "      <td>15000</td>\n",
       "    </tr>\n",
       "    <tr>\n",
       "      <th>33</th>\n",
       "      <td>Adabor</td>\n",
       "      <td>800</td>\n",
       "      <td>2</td>\n",
       "      <td>2</td>\n",
       "      <td>15000</td>\n",
       "    </tr>\n",
       "    <tr>\n",
       "      <th>34</th>\n",
       "      <td>Adabor</td>\n",
       "      <td>800</td>\n",
       "      <td>2</td>\n",
       "      <td>2</td>\n",
       "      <td>15000</td>\n",
       "    </tr>\n",
       "    <tr>\n",
       "      <th>35</th>\n",
       "      <td>Adabor</td>\n",
       "      <td>850</td>\n",
       "      <td>2</td>\n",
       "      <td>2</td>\n",
       "      <td>15000</td>\n",
       "    </tr>\n",
       "    <tr>\n",
       "      <th>36</th>\n",
       "      <td>Adabor</td>\n",
       "      <td>800</td>\n",
       "      <td>2</td>\n",
       "      <td>2</td>\n",
       "      <td>15000</td>\n",
       "    </tr>\n",
       "    <tr>\n",
       "      <th>37</th>\n",
       "      <td>Adabor</td>\n",
       "      <td>780</td>\n",
       "      <td>2</td>\n",
       "      <td>2</td>\n",
       "      <td>15000</td>\n",
       "    </tr>\n",
       "    <tr>\n",
       "      <th>38</th>\n",
       "      <td>Adabor</td>\n",
       "      <td>800</td>\n",
       "      <td>2</td>\n",
       "      <td>2</td>\n",
       "      <td>16000</td>\n",
       "    </tr>\n",
       "    <tr>\n",
       "      <th>39</th>\n",
       "      <td>Adabor</td>\n",
       "      <td>800</td>\n",
       "      <td>2</td>\n",
       "      <td>2</td>\n",
       "      <td>15000</td>\n",
       "    </tr>\n",
       "    <tr>\n",
       "      <th>40</th>\n",
       "      <td>Adabor</td>\n",
       "      <td>1000</td>\n",
       "      <td>3</td>\n",
       "      <td>2</td>\n",
       "      <td>20000</td>\n",
       "    </tr>\n",
       "    <tr>\n",
       "      <th>41</th>\n",
       "      <td>Adabor</td>\n",
       "      <td>800</td>\n",
       "      <td>2</td>\n",
       "      <td>2</td>\n",
       "      <td>15000</td>\n",
       "    </tr>\n",
       "    <tr>\n",
       "      <th>42</th>\n",
       "      <td>Adabor</td>\n",
       "      <td>800</td>\n",
       "      <td>2</td>\n",
       "      <td>2</td>\n",
       "      <td>15000</td>\n",
       "    </tr>\n",
       "    <tr>\n",
       "      <th>43</th>\n",
       "      <td>Adabor</td>\n",
       "      <td>850</td>\n",
       "      <td>2</td>\n",
       "      <td>2</td>\n",
       "      <td>15000</td>\n",
       "    </tr>\n",
       "    <tr>\n",
       "      <th>44</th>\n",
       "      <td>Adabor</td>\n",
       "      <td>800</td>\n",
       "      <td>2</td>\n",
       "      <td>2</td>\n",
       "      <td>16000</td>\n",
       "    </tr>\n",
       "    <tr>\n",
       "      <th>46</th>\n",
       "      <td>Adabor</td>\n",
       "      <td>1440</td>\n",
       "      <td>3</td>\n",
       "      <td>3</td>\n",
       "      <td>30000</td>\n",
       "    </tr>\n",
       "    <tr>\n",
       "      <th>47</th>\n",
       "      <td>Adabor</td>\n",
       "      <td>800</td>\n",
       "      <td>2</td>\n",
       "      <td>2</td>\n",
       "      <td>16000</td>\n",
       "    </tr>\n",
       "    <tr>\n",
       "      <th>48</th>\n",
       "      <td>Adabor</td>\n",
       "      <td>800</td>\n",
       "      <td>2</td>\n",
       "      <td>2</td>\n",
       "      <td>15000</td>\n",
       "    </tr>\n",
       "    <tr>\n",
       "      <th>49</th>\n",
       "      <td>Adabor</td>\n",
       "      <td>800</td>\n",
       "      <td>2</td>\n",
       "      <td>2</td>\n",
       "      <td>15000</td>\n",
       "    </tr>\n",
       "    <tr>\n",
       "      <th>51</th>\n",
       "      <td>Adabor</td>\n",
       "      <td>800</td>\n",
       "      <td>2</td>\n",
       "      <td>2</td>\n",
       "      <td>15000</td>\n",
       "    </tr>\n",
       "  </tbody>\n",
       "</table>\n",
       "</div>"
      ],
      "text/plain": [
       "   Location  Area  Bed  Bath   Rent\n",
       "10   Adabor  1550    3     3  30000\n",
       "13   Adabor   800    2     2  16000\n",
       "14   Adabor   850    2     2  15000\n",
       "17   Adabor  1550    3     3  30000\n",
       "19   Adabor  1550    3     3  30000\n",
       "20   Adabor   800    2     2  15000\n",
       "21   Adabor   800    2     2  15000\n",
       "23   Adabor   800    2     2  14000\n",
       "26   Adabor   850    2     2  15000\n",
       "27   Adabor   800    2     2  15500\n",
       "28   Adabor   850    2     2  15000\n",
       "31   Adabor   780    2     2  15000\n",
       "32   Adabor   800    2     2  15000\n",
       "33   Adabor   800    2     2  15000\n",
       "34   Adabor   800    2     2  15000\n",
       "35   Adabor   850    2     2  15000\n",
       "36   Adabor   800    2     2  15000\n",
       "37   Adabor   780    2     2  15000\n",
       "38   Adabor   800    2     2  16000\n",
       "39   Adabor   800    2     2  15000\n",
       "40   Adabor  1000    3     2  20000\n",
       "41   Adabor   800    2     2  15000\n",
       "42   Adabor   800    2     2  15000\n",
       "43   Adabor   850    2     2  15000\n",
       "44   Adabor   800    2     2  16000\n",
       "46   Adabor  1440    3     3  30000\n",
       "47   Adabor   800    2     2  16000\n",
       "48   Adabor   800    2     2  15000\n",
       "49   Adabor   800    2     2  15000\n",
       "51   Adabor   800    2     2  15000"
      ]
     },
     "execution_count": 51,
     "metadata": {},
     "output_type": "execute_result"
    }
   ],
   "source": [
    "df6.head(30)"
   ]
  },
  {
   "cell_type": "code",
   "execution_count": 52,
   "id": "13a69c2e-a30e-4fba-a7d6-d64691a27b41",
   "metadata": {},
   "outputs": [
    {
     "data": {
      "text/plain": [
       "array(['Adabor', 'Aftab Nagar', 'Agargaon', 'Badda', 'Banani',\n",
       "       'Banani DOHS', 'Banasree', 'Bangshal', 'Baridhara',\n",
       "       'Baridhara DOHS', 'Bashabo', 'Bashundhara R-A', 'Cantonment',\n",
       "       'Dakshin Khan', 'Dhanmondi', 'Eskaton', 'Gulshan', 'Hatirpool',\n",
       "       'Hazaribag', 'Ibrahimpur', 'Jatra Bari', 'Joar Sahara',\n",
       "       'Kachukhet', 'Kafrul', 'Kakrail', 'Kalabagan', 'Kalachandpur',\n",
       "       'Kathalbagan', 'Khilgaon', 'Khilkhet', 'Kotwali', 'Kuril',\n",
       "       'Lalbagh', 'Lalmatia', 'Maghbazar', 'Malibagh', 'Mirpur',\n",
       "       'Mohakhali', 'Mohakhali DOHS', 'Mohammadpur', 'Motijheel',\n",
       "       'Mugdapara', 'Nadda', 'New Market', 'Niketan', 'Nikunja',\n",
       "       'North Shahjahanpur', 'Rampura', 'Shahjahanpur', 'Shantinagar',\n",
       "       'Shegunbagicha', 'Shiddheswari', 'Shyamoli', 'Shyampur',\n",
       "       'Sutrapur', 'Tejgaon', 'Turag', 'Uttar Khan', 'Uttara', 'other'],\n",
       "      dtype=object)"
      ]
     },
     "execution_count": 52,
     "metadata": {},
     "output_type": "execute_result"
    }
   ],
   "source": [
    "df6.Location.unique()"
   ]
  },
  {
   "cell_type": "code",
   "execution_count": 53,
   "id": "7484aff9-0c8b-404c-8422-b02083a299ec",
   "metadata": {},
   "outputs": [],
   "source": [
    "df6 = df6.reset_index(drop=True)\n",
    "dummies = pd.get_dummies(df6.Location)\n",
    "dummies = dummies.astype(int)"
   ]
  },
  {
   "cell_type": "code",
   "execution_count": 54,
   "id": "5ca464cd-d515-41b4-86a3-71c3760fd5ea",
   "metadata": {
    "scrolled": true
   },
   "outputs": [
    {
     "data": {
      "text/html": [
       "<div>\n",
       "<style scoped>\n",
       "    .dataframe tbody tr th:only-of-type {\n",
       "        vertical-align: middle;\n",
       "    }\n",
       "\n",
       "    .dataframe tbody tr th {\n",
       "        vertical-align: top;\n",
       "    }\n",
       "\n",
       "    .dataframe thead th {\n",
       "        text-align: right;\n",
       "    }\n",
       "</style>\n",
       "<table border=\"1\" class=\"dataframe\">\n",
       "  <thead>\n",
       "    <tr style=\"text-align: right;\">\n",
       "      <th></th>\n",
       "      <th>Adabor</th>\n",
       "      <th>Aftab Nagar</th>\n",
       "      <th>Agargaon</th>\n",
       "      <th>Badda</th>\n",
       "      <th>Banani</th>\n",
       "      <th>Banani DOHS</th>\n",
       "      <th>Banasree</th>\n",
       "      <th>Bangshal</th>\n",
       "      <th>Baridhara</th>\n",
       "      <th>Baridhara DOHS</th>\n",
       "      <th>...</th>\n",
       "      <th>Shegunbagicha</th>\n",
       "      <th>Shiddheswari</th>\n",
       "      <th>Shyamoli</th>\n",
       "      <th>Shyampur</th>\n",
       "      <th>Sutrapur</th>\n",
       "      <th>Tejgaon</th>\n",
       "      <th>Turag</th>\n",
       "      <th>Uttar Khan</th>\n",
       "      <th>Uttara</th>\n",
       "      <th>other</th>\n",
       "    </tr>\n",
       "  </thead>\n",
       "  <tbody>\n",
       "    <tr>\n",
       "      <th>0</th>\n",
       "      <td>1</td>\n",
       "      <td>0</td>\n",
       "      <td>0</td>\n",
       "      <td>0</td>\n",
       "      <td>0</td>\n",
       "      <td>0</td>\n",
       "      <td>0</td>\n",
       "      <td>0</td>\n",
       "      <td>0</td>\n",
       "      <td>0</td>\n",
       "      <td>...</td>\n",
       "      <td>0</td>\n",
       "      <td>0</td>\n",
       "      <td>0</td>\n",
       "      <td>0</td>\n",
       "      <td>0</td>\n",
       "      <td>0</td>\n",
       "      <td>0</td>\n",
       "      <td>0</td>\n",
       "      <td>0</td>\n",
       "      <td>0</td>\n",
       "    </tr>\n",
       "    <tr>\n",
       "      <th>1</th>\n",
       "      <td>1</td>\n",
       "      <td>0</td>\n",
       "      <td>0</td>\n",
       "      <td>0</td>\n",
       "      <td>0</td>\n",
       "      <td>0</td>\n",
       "      <td>0</td>\n",
       "      <td>0</td>\n",
       "      <td>0</td>\n",
       "      <td>0</td>\n",
       "      <td>...</td>\n",
       "      <td>0</td>\n",
       "      <td>0</td>\n",
       "      <td>0</td>\n",
       "      <td>0</td>\n",
       "      <td>0</td>\n",
       "      <td>0</td>\n",
       "      <td>0</td>\n",
       "      <td>0</td>\n",
       "      <td>0</td>\n",
       "      <td>0</td>\n",
       "    </tr>\n",
       "    <tr>\n",
       "      <th>2</th>\n",
       "      <td>1</td>\n",
       "      <td>0</td>\n",
       "      <td>0</td>\n",
       "      <td>0</td>\n",
       "      <td>0</td>\n",
       "      <td>0</td>\n",
       "      <td>0</td>\n",
       "      <td>0</td>\n",
       "      <td>0</td>\n",
       "      <td>0</td>\n",
       "      <td>...</td>\n",
       "      <td>0</td>\n",
       "      <td>0</td>\n",
       "      <td>0</td>\n",
       "      <td>0</td>\n",
       "      <td>0</td>\n",
       "      <td>0</td>\n",
       "      <td>0</td>\n",
       "      <td>0</td>\n",
       "      <td>0</td>\n",
       "      <td>0</td>\n",
       "    </tr>\n",
       "  </tbody>\n",
       "</table>\n",
       "<p>3 rows × 60 columns</p>\n",
       "</div>"
      ],
      "text/plain": [
       "   Adabor  Aftab Nagar  Agargaon  Badda  Banani  Banani DOHS  Banasree  \\\n",
       "0       1            0         0      0       0            0         0   \n",
       "1       1            0         0      0       0            0         0   \n",
       "2       1            0         0      0       0            0         0   \n",
       "\n",
       "   Bangshal  Baridhara  Baridhara DOHS  ...  Shegunbagicha  Shiddheswari  \\\n",
       "0         0          0               0  ...              0             0   \n",
       "1         0          0               0  ...              0             0   \n",
       "2         0          0               0  ...              0             0   \n",
       "\n",
       "   Shyamoli  Shyampur  Sutrapur  Tejgaon  Turag  Uttar Khan  Uttara  other  \n",
       "0         0         0         0        0      0           0       0      0  \n",
       "1         0         0         0        0      0           0       0      0  \n",
       "2         0         0         0        0      0           0       0      0  \n",
       "\n",
       "[3 rows x 60 columns]"
      ]
     },
     "execution_count": 54,
     "metadata": {},
     "output_type": "execute_result"
    }
   ],
   "source": [
    "dummies.head(3)"
   ]
  },
  {
   "cell_type": "code",
   "execution_count": 55,
   "id": "d46b4803-085b-4bce-ab1c-326463d5e192",
   "metadata": {},
   "outputs": [
    {
     "data": {
      "text/html": [
       "<div>\n",
       "<style scoped>\n",
       "    .dataframe tbody tr th:only-of-type {\n",
       "        vertical-align: middle;\n",
       "    }\n",
       "\n",
       "    .dataframe tbody tr th {\n",
       "        vertical-align: top;\n",
       "    }\n",
       "\n",
       "    .dataframe thead th {\n",
       "        text-align: right;\n",
       "    }\n",
       "</style>\n",
       "<table border=\"1\" class=\"dataframe\">\n",
       "  <thead>\n",
       "    <tr style=\"text-align: right;\">\n",
       "      <th></th>\n",
       "      <th>Location</th>\n",
       "      <th>Area</th>\n",
       "      <th>Bed</th>\n",
       "      <th>Bath</th>\n",
       "      <th>Rent</th>\n",
       "      <th>Adabor</th>\n",
       "      <th>Aftab Nagar</th>\n",
       "      <th>Agargaon</th>\n",
       "      <th>Badda</th>\n",
       "      <th>Banani</th>\n",
       "      <th>...</th>\n",
       "      <th>Shantinagar</th>\n",
       "      <th>Shegunbagicha</th>\n",
       "      <th>Shiddheswari</th>\n",
       "      <th>Shyamoli</th>\n",
       "      <th>Shyampur</th>\n",
       "      <th>Sutrapur</th>\n",
       "      <th>Tejgaon</th>\n",
       "      <th>Turag</th>\n",
       "      <th>Uttar Khan</th>\n",
       "      <th>Uttara</th>\n",
       "    </tr>\n",
       "  </thead>\n",
       "  <tbody>\n",
       "    <tr>\n",
       "      <th>0</th>\n",
       "      <td>Adabor</td>\n",
       "      <td>1550</td>\n",
       "      <td>3</td>\n",
       "      <td>3</td>\n",
       "      <td>30000</td>\n",
       "      <td>1</td>\n",
       "      <td>0</td>\n",
       "      <td>0</td>\n",
       "      <td>0</td>\n",
       "      <td>0</td>\n",
       "      <td>...</td>\n",
       "      <td>0</td>\n",
       "      <td>0</td>\n",
       "      <td>0</td>\n",
       "      <td>0</td>\n",
       "      <td>0</td>\n",
       "      <td>0</td>\n",
       "      <td>0</td>\n",
       "      <td>0</td>\n",
       "      <td>0</td>\n",
       "      <td>0</td>\n",
       "    </tr>\n",
       "    <tr>\n",
       "      <th>1</th>\n",
       "      <td>Adabor</td>\n",
       "      <td>800</td>\n",
       "      <td>2</td>\n",
       "      <td>2</td>\n",
       "      <td>16000</td>\n",
       "      <td>1</td>\n",
       "      <td>0</td>\n",
       "      <td>0</td>\n",
       "      <td>0</td>\n",
       "      <td>0</td>\n",
       "      <td>...</td>\n",
       "      <td>0</td>\n",
       "      <td>0</td>\n",
       "      <td>0</td>\n",
       "      <td>0</td>\n",
       "      <td>0</td>\n",
       "      <td>0</td>\n",
       "      <td>0</td>\n",
       "      <td>0</td>\n",
       "      <td>0</td>\n",
       "      <td>0</td>\n",
       "    </tr>\n",
       "    <tr>\n",
       "      <th>2</th>\n",
       "      <td>Adabor</td>\n",
       "      <td>850</td>\n",
       "      <td>2</td>\n",
       "      <td>2</td>\n",
       "      <td>15000</td>\n",
       "      <td>1</td>\n",
       "      <td>0</td>\n",
       "      <td>0</td>\n",
       "      <td>0</td>\n",
       "      <td>0</td>\n",
       "      <td>...</td>\n",
       "      <td>0</td>\n",
       "      <td>0</td>\n",
       "      <td>0</td>\n",
       "      <td>0</td>\n",
       "      <td>0</td>\n",
       "      <td>0</td>\n",
       "      <td>0</td>\n",
       "      <td>0</td>\n",
       "      <td>0</td>\n",
       "      <td>0</td>\n",
       "    </tr>\n",
       "  </tbody>\n",
       "</table>\n",
       "<p>3 rows × 64 columns</p>\n",
       "</div>"
      ],
      "text/plain": [
       "  Location  Area  Bed  Bath   Rent  Adabor  Aftab Nagar  Agargaon  Badda  \\\n",
       "0   Adabor  1550    3     3  30000       1            0         0      0   \n",
       "1   Adabor   800    2     2  16000       1            0         0      0   \n",
       "2   Adabor   850    2     2  15000       1            0         0      0   \n",
       "\n",
       "   Banani  ...  Shantinagar  Shegunbagicha  Shiddheswari  Shyamoli  Shyampur  \\\n",
       "0       0  ...            0              0             0         0         0   \n",
       "1       0  ...            0              0             0         0         0   \n",
       "2       0  ...            0              0             0         0         0   \n",
       "\n",
       "   Sutrapur  Tejgaon  Turag  Uttar Khan  Uttara  \n",
       "0         0        0      0           0       0  \n",
       "1         0        0      0           0       0  \n",
       "2         0        0      0           0       0  \n",
       "\n",
       "[3 rows x 64 columns]"
      ]
     },
     "execution_count": 55,
     "metadata": {},
     "output_type": "execute_result"
    }
   ],
   "source": [
    "df7=pd.concat([df6,dummies.drop('other',axis='columns')],axis='columns')\n",
    "df7.head(3)"
   ]
  },
  {
   "cell_type": "code",
   "execution_count": 83,
   "id": "c3bc10ba-5fe0-4eb5-b354-f03a427767fd",
   "metadata": {},
   "outputs": [
    {
     "data": {
      "text/html": [
       "<div>\n",
       "<style scoped>\n",
       "    .dataframe tbody tr th:only-of-type {\n",
       "        vertical-align: middle;\n",
       "    }\n",
       "\n",
       "    .dataframe tbody tr th {\n",
       "        vertical-align: top;\n",
       "    }\n",
       "\n",
       "    .dataframe thead th {\n",
       "        text-align: right;\n",
       "    }\n",
       "</style>\n",
       "<table border=\"1\" class=\"dataframe\">\n",
       "  <thead>\n",
       "    <tr style=\"text-align: right;\">\n",
       "      <th></th>\n",
       "      <th>Area</th>\n",
       "      <th>Bed</th>\n",
       "      <th>Bath</th>\n",
       "      <th>Rent</th>\n",
       "      <th>Adabor</th>\n",
       "      <th>Aftab Nagar</th>\n",
       "      <th>Agargaon</th>\n",
       "      <th>Badda</th>\n",
       "      <th>Banani</th>\n",
       "      <th>Banani DOHS</th>\n",
       "      <th>...</th>\n",
       "      <th>Shantinagar</th>\n",
       "      <th>Shegunbagicha</th>\n",
       "      <th>Shiddheswari</th>\n",
       "      <th>Shyamoli</th>\n",
       "      <th>Shyampur</th>\n",
       "      <th>Sutrapur</th>\n",
       "      <th>Tejgaon</th>\n",
       "      <th>Turag</th>\n",
       "      <th>Uttar Khan</th>\n",
       "      <th>Uttara</th>\n",
       "    </tr>\n",
       "  </thead>\n",
       "  <tbody>\n",
       "    <tr>\n",
       "      <th>0</th>\n",
       "      <td>1550</td>\n",
       "      <td>3</td>\n",
       "      <td>3</td>\n",
       "      <td>30000</td>\n",
       "      <td>1</td>\n",
       "      <td>0</td>\n",
       "      <td>0</td>\n",
       "      <td>0</td>\n",
       "      <td>0</td>\n",
       "      <td>0</td>\n",
       "      <td>...</td>\n",
       "      <td>0</td>\n",
       "      <td>0</td>\n",
       "      <td>0</td>\n",
       "      <td>0</td>\n",
       "      <td>0</td>\n",
       "      <td>0</td>\n",
       "      <td>0</td>\n",
       "      <td>0</td>\n",
       "      <td>0</td>\n",
       "      <td>0</td>\n",
       "    </tr>\n",
       "    <tr>\n",
       "      <th>1</th>\n",
       "      <td>800</td>\n",
       "      <td>2</td>\n",
       "      <td>2</td>\n",
       "      <td>16000</td>\n",
       "      <td>1</td>\n",
       "      <td>0</td>\n",
       "      <td>0</td>\n",
       "      <td>0</td>\n",
       "      <td>0</td>\n",
       "      <td>0</td>\n",
       "      <td>...</td>\n",
       "      <td>0</td>\n",
       "      <td>0</td>\n",
       "      <td>0</td>\n",
       "      <td>0</td>\n",
       "      <td>0</td>\n",
       "      <td>0</td>\n",
       "      <td>0</td>\n",
       "      <td>0</td>\n",
       "      <td>0</td>\n",
       "      <td>0</td>\n",
       "    </tr>\n",
       "  </tbody>\n",
       "</table>\n",
       "<p>2 rows × 63 columns</p>\n",
       "</div>"
      ],
      "text/plain": [
       "   Area  Bed  Bath   Rent  Adabor  Aftab Nagar  Agargaon  Badda  Banani  \\\n",
       "0  1550    3     3  30000       1            0         0      0       0   \n",
       "1   800    2     2  16000       1            0         0      0       0   \n",
       "\n",
       "   Banani DOHS  ...  Shantinagar  Shegunbagicha  Shiddheswari  Shyamoli  \\\n",
       "0            0  ...            0              0             0         0   \n",
       "1            0  ...            0              0             0         0   \n",
       "\n",
       "   Shyampur  Sutrapur  Tejgaon  Turag  Uttar Khan  Uttara  \n",
       "0         0         0        0      0           0       0  \n",
       "1         0         0        0      0           0       0  \n",
       "\n",
       "[2 rows x 63 columns]"
      ]
     },
     "execution_count": 83,
     "metadata": {},
     "output_type": "execute_result"
    }
   ],
   "source": [
    "df8=df7.drop('Location',axis='columns')\n",
    "df8.head(2)"
   ]
  },
  {
   "cell_type": "code",
   "execution_count": 84,
   "id": "c68f68d0-07b8-45c6-ad38-058582d688bf",
   "metadata": {},
   "outputs": [
    {
     "data": {
      "text/html": [
       "<div>\n",
       "<style scoped>\n",
       "    .dataframe tbody tr th:only-of-type {\n",
       "        vertical-align: middle;\n",
       "    }\n",
       "\n",
       "    .dataframe tbody tr th {\n",
       "        vertical-align: top;\n",
       "    }\n",
       "\n",
       "    .dataframe thead th {\n",
       "        text-align: right;\n",
       "    }\n",
       "</style>\n",
       "<table border=\"1\" class=\"dataframe\">\n",
       "  <thead>\n",
       "    <tr style=\"text-align: right;\">\n",
       "      <th></th>\n",
       "      <th>Area</th>\n",
       "      <th>Bed</th>\n",
       "      <th>Bath</th>\n",
       "      <th>Adabor</th>\n",
       "      <th>Aftab Nagar</th>\n",
       "      <th>Agargaon</th>\n",
       "      <th>Badda</th>\n",
       "      <th>Banani</th>\n",
       "      <th>Banani DOHS</th>\n",
       "      <th>Banasree</th>\n",
       "      <th>...</th>\n",
       "      <th>Shantinagar</th>\n",
       "      <th>Shegunbagicha</th>\n",
       "      <th>Shiddheswari</th>\n",
       "      <th>Shyamoli</th>\n",
       "      <th>Shyampur</th>\n",
       "      <th>Sutrapur</th>\n",
       "      <th>Tejgaon</th>\n",
       "      <th>Turag</th>\n",
       "      <th>Uttar Khan</th>\n",
       "      <th>Uttara</th>\n",
       "    </tr>\n",
       "  </thead>\n",
       "  <tbody>\n",
       "    <tr>\n",
       "      <th>0</th>\n",
       "      <td>1550</td>\n",
       "      <td>3</td>\n",
       "      <td>3</td>\n",
       "      <td>1</td>\n",
       "      <td>0</td>\n",
       "      <td>0</td>\n",
       "      <td>0</td>\n",
       "      <td>0</td>\n",
       "      <td>0</td>\n",
       "      <td>0</td>\n",
       "      <td>...</td>\n",
       "      <td>0</td>\n",
       "      <td>0</td>\n",
       "      <td>0</td>\n",
       "      <td>0</td>\n",
       "      <td>0</td>\n",
       "      <td>0</td>\n",
       "      <td>0</td>\n",
       "      <td>0</td>\n",
       "      <td>0</td>\n",
       "      <td>0</td>\n",
       "    </tr>\n",
       "    <tr>\n",
       "      <th>1</th>\n",
       "      <td>800</td>\n",
       "      <td>2</td>\n",
       "      <td>2</td>\n",
       "      <td>1</td>\n",
       "      <td>0</td>\n",
       "      <td>0</td>\n",
       "      <td>0</td>\n",
       "      <td>0</td>\n",
       "      <td>0</td>\n",
       "      <td>0</td>\n",
       "      <td>...</td>\n",
       "      <td>0</td>\n",
       "      <td>0</td>\n",
       "      <td>0</td>\n",
       "      <td>0</td>\n",
       "      <td>0</td>\n",
       "      <td>0</td>\n",
       "      <td>0</td>\n",
       "      <td>0</td>\n",
       "      <td>0</td>\n",
       "      <td>0</td>\n",
       "    </tr>\n",
       "    <tr>\n",
       "      <th>2</th>\n",
       "      <td>850</td>\n",
       "      <td>2</td>\n",
       "      <td>2</td>\n",
       "      <td>1</td>\n",
       "      <td>0</td>\n",
       "      <td>0</td>\n",
       "      <td>0</td>\n",
       "      <td>0</td>\n",
       "      <td>0</td>\n",
       "      <td>0</td>\n",
       "      <td>...</td>\n",
       "      <td>0</td>\n",
       "      <td>0</td>\n",
       "      <td>0</td>\n",
       "      <td>0</td>\n",
       "      <td>0</td>\n",
       "      <td>0</td>\n",
       "      <td>0</td>\n",
       "      <td>0</td>\n",
       "      <td>0</td>\n",
       "      <td>0</td>\n",
       "    </tr>\n",
       "    <tr>\n",
       "      <th>3</th>\n",
       "      <td>1550</td>\n",
       "      <td>3</td>\n",
       "      <td>3</td>\n",
       "      <td>1</td>\n",
       "      <td>0</td>\n",
       "      <td>0</td>\n",
       "      <td>0</td>\n",
       "      <td>0</td>\n",
       "      <td>0</td>\n",
       "      <td>0</td>\n",
       "      <td>...</td>\n",
       "      <td>0</td>\n",
       "      <td>0</td>\n",
       "      <td>0</td>\n",
       "      <td>0</td>\n",
       "      <td>0</td>\n",
       "      <td>0</td>\n",
       "      <td>0</td>\n",
       "      <td>0</td>\n",
       "      <td>0</td>\n",
       "      <td>0</td>\n",
       "    </tr>\n",
       "    <tr>\n",
       "      <th>4</th>\n",
       "      <td>1550</td>\n",
       "      <td>3</td>\n",
       "      <td>3</td>\n",
       "      <td>1</td>\n",
       "      <td>0</td>\n",
       "      <td>0</td>\n",
       "      <td>0</td>\n",
       "      <td>0</td>\n",
       "      <td>0</td>\n",
       "      <td>0</td>\n",
       "      <td>...</td>\n",
       "      <td>0</td>\n",
       "      <td>0</td>\n",
       "      <td>0</td>\n",
       "      <td>0</td>\n",
       "      <td>0</td>\n",
       "      <td>0</td>\n",
       "      <td>0</td>\n",
       "      <td>0</td>\n",
       "      <td>0</td>\n",
       "      <td>0</td>\n",
       "    </tr>\n",
       "  </tbody>\n",
       "</table>\n",
       "<p>5 rows × 62 columns</p>\n",
       "</div>"
      ],
      "text/plain": [
       "   Area  Bed  Bath  Adabor  Aftab Nagar  Agargaon  Badda  Banani  Banani DOHS  \\\n",
       "0  1550    3     3       1            0         0      0       0            0   \n",
       "1   800    2     2       1            0         0      0       0            0   \n",
       "2   850    2     2       1            0         0      0       0            0   \n",
       "3  1550    3     3       1            0         0      0       0            0   \n",
       "4  1550    3     3       1            0         0      0       0            0   \n",
       "\n",
       "   Banasree  ...  Shantinagar  Shegunbagicha  Shiddheswari  Shyamoli  \\\n",
       "0         0  ...            0              0             0         0   \n",
       "1         0  ...            0              0             0         0   \n",
       "2         0  ...            0              0             0         0   \n",
       "3         0  ...            0              0             0         0   \n",
       "4         0  ...            0              0             0         0   \n",
       "\n",
       "   Shyampur  Sutrapur  Tejgaon  Turag  Uttar Khan  Uttara  \n",
       "0         0         0        0      0           0       0  \n",
       "1         0         0        0      0           0       0  \n",
       "2         0         0        0      0           0       0  \n",
       "3         0         0        0      0           0       0  \n",
       "4         0         0        0      0           0       0  \n",
       "\n",
       "[5 rows x 62 columns]"
      ]
     },
     "execution_count": 84,
     "metadata": {},
     "output_type": "execute_result"
    }
   ],
   "source": [
    "X=df8.drop('Rent',axis='columns')\n",
    "X.head()"
   ]
  },
  {
   "cell_type": "code",
   "execution_count": 85,
   "id": "9415e1f4-f790-4bea-be64-d8c9a305f356",
   "metadata": {},
   "outputs": [
    {
     "data": {
      "text/plain": [
       "0    30000\n",
       "1    16000\n",
       "2    15000\n",
       "3    30000\n",
       "4    30000\n",
       "Name: Rent, dtype: int64"
      ]
     },
     "execution_count": 85,
     "metadata": {},
     "output_type": "execute_result"
    }
   ],
   "source": [
    "y=df8.Rent\n",
    "y.head()"
   ]
  },
  {
   "cell_type": "code",
   "execution_count": 86,
   "id": "a2420fa1-e738-4b57-bb14-76d178d12c03",
   "metadata": {},
   "outputs": [],
   "source": [
    "X_train, X_test, y_train, y_test = train_test_split(X,y,test_size=0.2,random_state=10)"
   ]
  },
  {
   "cell_type": "code",
   "execution_count": 87,
   "id": "59dec9dc-361e-46f6-9a80-7bff148bbdb8",
   "metadata": {},
   "outputs": [
    {
     "name": "stdout",
     "output_type": "stream",
     "text": [
      "Linear Score: 91.875752\n"
     ]
    }
   ],
   "source": [
    "lr_clf=LinearRegression()\n",
    "lr_clf.fit(X_train,y_train)\n",
    "lr_score=lr_clf.score(X_test,y_test)\n",
    "print(\"Linear Score: %.6f\" % (lr_score * 100))"
   ]
  },
  {
   "cell_type": "code",
   "execution_count": 88,
   "id": "109bc6b3-844a-42a2-b046-07f6d4bd84d6",
   "metadata": {},
   "outputs": [
    {
     "data": {
      "text/plain": [
       "array([0.90816917, 0.92378826, 0.88279049, 0.91749134, 0.91756592])"
      ]
     },
     "execution_count": 88,
     "metadata": {},
     "output_type": "execute_result"
    }
   ],
   "source": [
    "cv=ShuffleSplit(n_splits=5, test_size=0.2, random_state=0)\n",
    "cross_val_score(LinearRegression(),X,y,cv=cv)"
   ]
  },
  {
   "cell_type": "code",
   "execution_count": 89,
   "id": "a0e125ba-f1cd-40d4-bc0f-3bbcbc9c2305",
   "metadata": {},
   "outputs": [
    {
     "name": "stdout",
     "output_type": "stream",
     "text": [
      "Linear Regression Score: 92.66\n",
      "Lasso Score: 92.66\n",
      "Ridge Regression Score: 92.66\n",
      "XGBoost Score: 96.23\n"
     ]
    }
   ],
   "source": [
    "cv = ShuffleSplit(n_splits=5, test_size=0.2, random_state=42)\n",
    "\n",
    "scores = {}\n",
    "\n",
    "def get_cv_score(model, X, y):\n",
    "    cv_scores = []\n",
    "    for train_idx, test_idx in cv.split(X):\n",
    "        X_train, X_test = train_test_split(X, test_size=0.2, random_state=42)\n",
    "        y_train, y_test = train_test_split(y, test_size=0.2, random_state=42)\n",
    "        \n",
    "        model.fit(X_train, y_train)\n",
    "        score = model.score(X_test, y_test)\n",
    "        cv_scores.append(score)\n",
    "    \n",
    "    return np.mean(cv_scores)\n",
    "\n",
    "lr_clf = LinearRegression()\n",
    "scores[\"Linear Regression\"] = get_cv_score(lr_clf, X, y)\n",
    "\n",
    "las_clf = Lasso(alpha=0.1)\n",
    "scores[\"Lasso\"] = get_cv_score(las_clf, X, y)\n",
    "\n",
    "ridge_clf = Ridge(alpha=0.1, solver='auto')\n",
    "scores[\"Ridge Regression\"] = get_cv_score(ridge_clf, X, y)\n",
    "\n",
    "xgb_clf = XGBRegressor(objective='reg:squarederror', colsample_bytree=0.3, \n",
    "                       learning_rate=0.1, max_depth=5, alpha=10, n_estimators=100)\n",
    "scores[\"XGBoost\"] = get_cv_score(xgb_clf, X, y)\n",
    "\n",
    "for model, score in scores.items():\n",
    "    print(f\"{model} Score: {score * 100:.2f}\")\n"
   ]
  },
  {
   "cell_type": "code",
   "execution_count": 90,
   "id": "2dd3fb3c-2238-4539-944e-7588582555a2",
   "metadata": {},
   "outputs": [
    {
     "name": "stdout",
     "output_type": "stream",
     "text": [
      "<class 'pandas.core.frame.DataFrame'>\n",
      "<class 'pandas.core.series.Series'>\n"
     ]
    }
   ],
   "source": [
    "print(type(X_train))\n",
    "print(type(y_train))"
   ]
  },
  {
   "cell_type": "code",
   "execution_count": 91,
   "id": "a0d9557f-4f42-44c4-b6ca-812db2a64683",
   "metadata": {},
   "outputs": [],
   "source": [
    "def predict_price(Location,Area,Bed,Bath,X):    \n",
    "    index = np.where(X.columns == Location)[0][0]\n",
    "\n",
    "    x = np.zeros(len(X.columns))\n",
    "    x[0] = Area\n",
    "    x[1] = Bed\n",
    "    x[2] = Bath\n",
    "    if index >= 0:\n",
    "        x[index] = 1\n",
    "\n",
    "    return xgb_clf.predict([x])[0]"
   ]
  },
  {
   "cell_type": "code",
   "execution_count": 92,
   "id": "9a4ce719-a842-4bb2-87db-095081aff5bd",
   "metadata": {},
   "outputs": [
    {
     "name": "stdout",
     "output_type": "stream",
     "text": [
      "Predicted Price: 27950\n"
     ]
    }
   ],
   "source": [
    "# Now predict using the best model\n",
    "predicted_price = round(predict_price('Lalmatia', 1100, 3, 2, X))\n",
    "print(f\"Predicted Price: {predicted_price}\")"
   ]
  },
  {
   "cell_type": "code",
   "execution_count": 93,
   "id": "c8a6b2b5-a4b4-4b37-9b2d-9ac34afe46ad",
   "metadata": {},
   "outputs": [
    {
     "name": "stdout",
     "output_type": "stream",
     "text": [
      "Predicted Price: 26378\n"
     ]
    }
   ],
   "source": [
    "# Now predict using the best model\n",
    "predicted_price = round(predict_price('Lalmatia', 1100, 2, 3, X))\n",
    "print(f\"Predicted Price: {predicted_price}\")"
   ]
  },
  {
   "cell_type": "code",
   "execution_count": 94,
   "id": "f0fee71e-7760-491b-be91-ca481a2a8eef",
   "metadata": {},
   "outputs": [
    {
     "name": "stdout",
     "output_type": "stream",
     "text": [
      "Predicted Price: 81163.6484375\n"
     ]
    }
   ],
   "source": [
    "predicted_price = predict_price('Gulshan', 2000, 3, 3, X)\n",
    "print(f\"Predicted Price: {predicted_price}\")"
   ]
  },
  {
   "cell_type": "code",
   "execution_count": 95,
   "id": "7e6ae7c8-bf38-45e7-bb75-2345271c203a",
   "metadata": {},
   "outputs": [
    {
     "name": "stdout",
     "output_type": "stream",
     "text": [
      "Predicted Price: 85857.21875\n"
     ]
    }
   ],
   "source": [
    "predicted_price = predict_price('Gulshan', 2200, 3, 4, X)\n",
    "print(f\"Predicted Price: {predicted_price}\")"
   ]
  },
  {
   "cell_type": "code",
   "execution_count": 96,
   "id": "f10554d3-288e-4696-8868-65132f573cef",
   "metadata": {},
   "outputs": [
    {
     "name": "stdout",
     "output_type": "stream",
     "text": [
      "Predicted Price: 25397.431640625\n"
     ]
    }
   ],
   "source": [
    "predicted_price = predict_price('Mirpur', 1450, 3, 3, X)\n",
    "print(f\"Predicted Price: {predicted_price}\")"
   ]
  },
  {
   "cell_type": "code",
   "execution_count": 97,
   "id": "0e1db27c-888d-4407-babd-d17adfe4df5f",
   "metadata": {},
   "outputs": [
    {
     "name": "stdout",
     "output_type": "stream",
     "text": [
      "Model saved successfully!\n"
     ]
    }
   ],
   "source": [
    "os.makedirs('../Model', exist_ok=True)\n",
    "\n",
    "with open('../Model/dhaka_rent_model.pkl', 'wb') as f:\n",
    "    pickle.dump(xgb_clf, f)\n",
    "\n",
    "print(\"Model saved successfully!\")"
   ]
  },
  {
   "cell_type": "code",
   "execution_count": 108,
   "id": "9906c75f-836b-4e07-a631-b50558e727f3",
   "metadata": {},
   "outputs": [],
   "source": [
    "x_column=X.columns.tolist()\n",
    "with open('../Model/X_columns.pkl','wb') as f:\n",
    "    joblib.dump(x_column,f)"
   ]
  },
  {
   "cell_type": "code",
   "execution_count": 109,
   "id": "7fb131b8-51f0-4046-aabc-ee53e9baed4e",
   "metadata": {},
   "outputs": [
    {
     "name": "stdout",
     "output_type": "stream",
     "text": [
      "<class 'list'>\n",
      "62\n",
      "['Area', 'Bed', 'Bath', 'Adabor', 'Aftab Nagar', 'Agargaon', 'Badda', 'Banani', 'Banani DOHS', 'Banasree', 'Bangshal', 'Baridhara', 'Baridhara DOHS', 'Bashabo', 'Bashundhara R-A', 'Cantonment', 'Dakshin Khan', 'Dhanmondi', 'Eskaton', 'Gulshan', 'Hatirpool', 'Hazaribag', 'Ibrahimpur', 'Jatra Bari', 'Joar Sahara', 'Kachukhet', 'Kafrul', 'Kakrail', 'Kalabagan', 'Kalachandpur', 'Kathalbagan', 'Khilgaon', 'Khilkhet', 'Kotwali', 'Kuril', 'Lalbagh', 'Lalmatia', 'Maghbazar', 'Malibagh', 'Mirpur', 'Mohakhali', 'Mohakhali DOHS', 'Mohammadpur', 'Motijheel', 'Mugdapara', 'Nadda', 'New Market', 'Niketan', 'Nikunja', 'North Shahjahanpur', 'Rampura', 'Shahjahanpur', 'Shantinagar', 'Shegunbagicha', 'Shiddheswari', 'Shyamoli', 'Shyampur', 'Sutrapur', 'Tejgaon', 'Turag', 'Uttar Khan', 'Uttara']\n"
     ]
    }
   ],
   "source": [
    "X_columns = joblib.load(\"../../RentPrediction/Model/X_columns.pkl\")\n",
    "print(type(X_columns))  # Should print <class 'list'>\n",
    "print(len(X_columns)) \n",
    "print(X_columns)"
   ]
  },
  {
   "cell_type": "code",
   "execution_count": null,
   "id": "8dc4fa31-9473-4dce-b493-b6298bdc19d8",
   "metadata": {},
   "outputs": [],
   "source": []
  }
 ],
 "metadata": {
  "kernelspec": {
   "display_name": "Python 3 (ipykernel)",
   "language": "python",
   "name": "python3"
  },
  "language_info": {
   "codemirror_mode": {
    "name": "ipython",
    "version": 3
   },
   "file_extension": ".py",
   "mimetype": "text/x-python",
   "name": "python",
   "nbconvert_exporter": "python",
   "pygments_lexer": "ipython3",
   "version": "3.12.1"
  }
 },
 "nbformat": 4,
 "nbformat_minor": 5
}
